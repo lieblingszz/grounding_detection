{
 "cells": [
  {
   "cell_type": "code",
   "execution_count": null,
   "id": "1b37e944",
   "metadata": {
    "id": "LUlhvjx5kWZl"
   },
   "outputs": [],
   "source": [
    "from sklearn.metrics import precision_recall_fscore_support\n",
    "import numpy as np\n",
    "import re\n",
    "from torchvision.ops import box_iou\n",
    "import torch\n",
    "import os\n",
    "import re\n",
    "from collections import OrderedDict\n",
    "import json\n",
    "from sklearn.metrics import precision_score, recall_score, f1_score\n",
    "from collections import defaultdict"
   ]
  },
  {
   "cell_type": "code",
   "execution_count": null,
   "id": "b10d3396",
   "metadata": {
    "colab": {
     "base_uri": "https://localhost:8080/"
    },
    "id": "EZ7nNZQv5oG_",
    "outputId": "40a49724-461d-47b3-a863-56f82ba93410"
   },
   "outputs": [],
   "source": [
    "import json\n",
    "from collections import Counter\n",
    "\n",
    "with open('/content/chest_ima_train_full.json', 'r') as f:\n",
    "    data = json.load(f)\n",
    "\n",
    "unique_image_ids = len(set(item['id'] for item in data))\n",
    "\n",
    "print(f\"Number of unique image IDs: {unique_image_ids}\")\n"
   ]
  },
  {
   "cell_type": "code",
   "execution_count": null,
   "id": "0bc33970",
   "metadata": {
    "colab": {
     "base_uri": "https://localhost:8080/"
    },
    "id": "lxof7bFa6JLS",
    "outputId": "f51c0b12-031a-42f5-8579-38099d352e71"
   },
   "outputs": [],
   "source": [
    "import json\n",
    "from collections import Counter\n",
    "\n",
    "with open('/content/eval_all_batches_ep1_multipleInstructions_formatted.json', 'r') as f:\n",
    "    data = json.load(f)\n",
    "unique_image_ids = len(set(item['idx'] for item in data))\n",
    "\n",
    "print(f\"Number of unique image IDs: {unique_image_ids}\")\n"
   ]
  },
  {
   "cell_type": "code",
   "execution_count": null,
   "id": "a8f88c3b",
   "metadata": {
    "colab": {
     "base_uri": "https://localhost:8080/"
    },
    "id": "uIchqDsUyKXM",
    "outputId": "93c1ddd0-f885-48fc-a22e-2e8f12a1f08d"
   },
   "outputs": [],
   "source": [
    "import pandas as pd\n",
    "\n",
    "df = pd.read_csv('/content/llava_train_01.csv')\n",
    "unique_image_count = df['image_id'].nunique()\n",
    "\n",
    "print(f\"Number of unique image IDs: {unique_image_count}\")\n"
   ]
  },
  {
   "cell_type": "code",
   "execution_count": null,
   "id": "8cba4515",
   "metadata": {
    "colab": {
     "base_uri": "https://localhost:8080/"
    },
    "id": "iZ_tLIIV4nYN",
    "outputId": "548301c3-021f-4789-ed30-9f78b8c1434f"
   },
   "outputs": [],
   "source": [
    "import pandas as pd\n",
    "\n",
    "df = pd.read_csv('/content/llava_valid_01.csv')\n",
    "unique_image_count = df['image_id'].nunique()\n",
    "\n",
    "print(f\"Number of unique image IDs: {unique_image_count}\")\n"
   ]
  },
  {
   "cell_type": "code",
   "execution_count": null,
   "id": "3b981175",
   "metadata": {
    "colab": {
     "base_uri": "https://localhost:8080/"
    },
    "id": "U7aP9E7A7bix",
    "outputId": "24687252-6749-41a3-b878-c2e24ba402b4"
   },
   "outputs": [],
   "source": [
    "image_id_counts = df['image_id'].value_counts()\n",
    "\n",
    "# Check if all image_id counts are 36\n",
    "all_counts_36 = (image_id_counts == 36).all()\n",
    "\n",
    "if all_counts_36:\n",
    "    print(\"Each image_id appears exactly 36 times.\")\n",
    "else:\n",
    "    print(\"Not all image_ids appear 36 times. Here are the counts:\")\n",
    "    print(image_id_counts[image_id_counts != 36])"
   ]
  },
  {
   "cell_type": "code",
   "execution_count": null,
   "id": "a2d926f8",
   "metadata": {
    "id": "FlQ2AT2gNw1J"
   },
   "outputs": [],
   "source": [
    "def load_json_file(file_path):\n",
    "    with open(file_path, 'r') as f:\n",
    "        data = json.load(f)\n",
    "        print(len(data))\n",
    "    filtered_data = []\n",
    "    for json_obj in data:\n",
    "        has_zero_area_bbox = False\n",
    "        for bbox in json_obj['bbx_dict'].values():\n",
    "            x1, y1, x2, y2 = bbox\n",
    "            area = (x2 - x1) * (y2 - y1)\n",
    "            if area == 0:\n",
    "                has_zero_area_bbox = True\n",
    "                break\n",
    "        if not has_zero_area_bbox:\n",
    "            filtered_data.append(json_obj)\n",
    "\n",
    "    return filtered_data"
   ]
  },
  {
   "cell_type": "code",
   "execution_count": null,
   "id": "6c0db92a",
   "metadata": {
    "id": "mCGCC92mN4lx"
   },
   "outputs": [],
   "source": [
    "def compute_zero_gt(data):\n",
    "  total_images = 0\n",
    "  images_with_zero_area = 0\n",
    "\n",
    "  for json_obj in data:\n",
    "      total_images += 1\n",
    "      has_zero_area_bbox = False\n",
    "      for bbox in json_obj['bbx_dict'].values():\n",
    "          x1, y1, x2, y2 = bbox\n",
    "          area = (x2 - x1) * (y2 - y1)\n",
    "          if area == 0:\n",
    "              has_zero_area_bbox = True\n",
    "              break\n",
    "      if has_zero_area_bbox:\n",
    "          images_with_zero_area += 1\n",
    "\n",
    "  share_of_images_with_zero_area = images_with_zero_area / total_images if total_images > 0 else 0\n",
    "  print(\"Total number of images:\", total_images)\n",
    "  print(\"Number of images with zero-area bounding boxes:\", images_with_zero_area)\n",
    "  print(\"Share of images with zero-area bounding boxes:\", share_of_images_with_zero_area)\n"
   ]
  },
  {
   "cell_type": "code",
   "execution_count": null,
   "id": "f1c30c9a",
   "metadata": {
    "colab": {
     "base_uri": "https://localhost:8080/"
    },
    "id": "766XXKlNpjAJ",
    "outputId": "67357526-c961-4d12-a972-16ef909949e6"
   },
   "outputs": [],
   "source": [
    "ep1_multipleInstructions_formatted = load_json_file('/content/eval_all_batches_ep1_multipleInstructions_formatted.json')\n",
    "ep1_multipleInstructions_weighted_formatted = load_json_file('/content/eval_all_batches_ep1_multipleInstructions_weighted_formatted.json')\n",
    "ep1_singleInstruction_formatted = load_json_file('/content/eval_all_batches_ep1_singleInstruction_formatted.json')\n",
    "ep1_singleInstruction_weighted_formatted = load_json_file('/content/eval_all_batches_ep1_singleInstruction_weighted_formatted.json')\n",
    "ep2_multipleInstructions_formatted = load_json_file('/content/eval_all_batches_ep2_multipleInstructions_formatted.json')\n",
    "ep2_singleInstruction_formatted = load_json_file('/content/eval_all_batches_ep2_singleInstruction_formatted.json')\n",
    "ep3_multipleInstructions_formatted = load_json_file('/content/eval_all_batches_ep3_multipleInstructions_formatted.json')\n",
    "ep3_singleInstruction_formatted = load_json_file('/content/eval_all_batches_ep3_singleInstruction_formatted.json')"
   ]
  },
  {
   "cell_type": "code",
   "execution_count": null,
   "id": "ed9cafa6",
   "metadata": {
    "colab": {
     "base_uri": "https://localhost:8080/",
     "height": 144
    },
    "id": "P0i0qJjmqwSy",
    "outputId": "cd323a08-9d33-4dba-fa00-13e82db86b07"
   },
   "outputs": [],
   "source": [
    "ep1_multipleInstructions_formatted"
   ]
  },
  {
   "cell_type": "code",
   "execution_count": null,
   "id": "5e35c459",
   "metadata": {
    "id": "XD625uOFpPoD"
   },
   "outputs": [],
   "source": [
    "def calculate_iou(bbox1, bbox2):\n",
    "    \"\"\"\n",
    "    Calculate the IOU of two bounding boxes\n",
    "    \"\"\"\n",
    "    x1 = max(bbox1[0], bbox2[0])\n",
    "    y1 = max(bbox1[1], bbox2[1])\n",
    "    x2 = min(bbox1[2], bbox2[2])\n",
    "    y2 = min(bbox1[3], bbox2[3])\n",
    "\n",
    "    intersection_area = max(0, x2 - x1) * max(0, y2 - y1)\n",
    "\n",
    "    bbox1_area = (bbox1[2] - bbox1[0]) * (bbox1[3] - bbox1[1])\n",
    "    bbox2_area = (bbox2[2] - bbox2[0]) * (bbox2[3] - bbox2[1])\n",
    "\n",
    "    union_area = bbox1_area + bbox2_area - intersection_area\n",
    "\n",
    "    if union_area == 0:\n",
    "        return 0.0\n",
    "\n",
    "    return intersection_area / union_area"
   ]
  },
  {
   "cell_type": "code",
   "execution_count": null,
   "id": "4dc6550a",
   "metadata": {
    "id": "7Vwf5FBvkZaX"
   },
   "outputs": [],
   "source": [
    "anatomies = [\n",
    "    \"abdomen\", \"aortic arch\", \"cardiac silhouette\", \"carina\", \"cavoatrial junction\",\n",
    "    \"descending aorta\", \"left apical zone\", \"left cardiac silhouette\", \"left cardiophrenic angle\",\n",
    "    \"left clavicle\", \"left costophrenic angle\", \"left hemidiaphragm\", \"left hilar structures\",\n",
    "    \"left lower lung zone\", \"left lung\", \"left mid lung zone\", \"left upper abdomen\",\n",
    "    \"left upper lung zone\", \"mediastinum\", \"right apical zone\", \"right atrium\",\n",
    "    \"right cardiac silhouette\", \"right cardiophrenic angle\", \"right clavicle\",\n",
    "    \"right costophrenic angle\", \"right hemidiaphragm\", \"right hilar structures\",\n",
    "    \"right lower lung zone\", \"right lung\", \"right mid lung zone\", \"right upper abdomen\",\n",
    "    \"right upper lung zone\", \"spine\", \"svc\", \"trachea\", \"upper mediastinum\"\n",
    "]"
   ]
  },
  {
   "cell_type": "code",
   "execution_count": null,
   "id": "667c36f6",
   "metadata": {
    "id": "SUA-ao61qgoj"
   },
   "outputs": [],
   "source": [
    "def is_valid_bbox(bbox):\n",
    "    \"\"\"\n",
    "    Check if a bounding box is valid (i.e., has non-zero width and height).\n",
    "    \"\"\"\n",
    "    if len(bbox) != 4:\n",
    "        return False\n",
    "    x1, y1, x2, y2 = bbox\n",
    "    return (x2 - x1 > 0) and (y2 - y1 > 0)"
   ]
  },
  {
   "cell_type": "code",
   "execution_count": null,
   "id": "5c9c15f5",
   "metadata": {
    "id": "uuZw_LR9ZBdD"
   },
   "outputs": [],
   "source": [
    "def extract_bbox_from_text(text):\n",
    "    bbox_texts = re.findall(r\"\\[(.*?)\\]\", text)\n",
    "    bbox_matches = []\n",
    "\n",
    "    for bbox in bbox_texts:\n",
    "        try:\n",
    "            bbox_floats = list(map(float, bbox.split(',')))\n",
    "            bbox_matches.append(bbox_floats)\n",
    "        except ValueError as e:\n",
    "            print(f\"Error parsing bbox: {bbox}. Skipping it. Error: {e}\")\n",
    "\n",
    "    return bbox_matches"
   ]
  },
  {
   "cell_type": "code",
   "execution_count": null,
   "id": "b3266447",
   "metadata": {
    "id": "5v9C5d5GZHwV"
   },
   "outputs": [],
   "source": [
    "def get_best_bbox_for_anatomy(bbox_matches, gt_bbox):\n",
    "    max_iou = -1\n",
    "    best_bbox = None\n",
    "\n",
    "    for predicted_bbox in bbox_matches:\n",
    "        iou = calculate_iou(predicted_bbox, gt_bbox)\n",
    "        if iou > max_iou:\n",
    "            max_iou = iou\n",
    "            best_bbox = predicted_bbox\n",
    "\n",
    "    return best_bbox\n"
   ]
  },
  {
   "cell_type": "code",
   "execution_count": null,
   "id": "6d066523",
   "metadata": {
    "id": "zvvbZiTrZL-p"
   },
   "outputs": [],
   "source": [
    "def print_key_mismatch_info(anatomy_to_bbox, bbx_dict, original_text):\n",
    "    print(\"Warning: anatomy_to_bbox and bbx_dict have different keys!\")\n",
    "    print(f\"anatomy_to_bbox keys: {set(anatomy_to_bbox.keys())}\")\n",
    "    print(f\"bbx_dict keys: {set(bbx_dict.keys())}\")\n",
    "    print(f\"Original Text: {original_text}\")\n",
    "    print(f\"bbx_dict: {bbx_dict}\")"
   ]
  },
  {
   "cell_type": "code",
   "execution_count": null,
   "id": "b3565a55",
   "metadata": {
    "id": "LdlA1evqZQcI"
   },
   "outputs": [],
   "source": [
    "def check_key_length_mismatch(anatomy_to_bbox, bbx_dict, original_text):\n",
    "    if set(anatomy_to_bbox.keys()) != set(bbx_dict.keys()):\n",
    "        print_key_mismatch_info(anatomy_to_bbox, bbx_dict, original_text)\n",
    "\n",
    "    if len(anatomy_to_bbox) != len(bbx_dict):\n",
    "        print(f\"Warning: Length mismatch between anatomy_to_bbox ({len(anatomy_to_bbox)}) and bbx_dict ({len(bbx_dict)})\")"
   ]
  },
  {
   "cell_type": "code",
   "execution_count": null,
   "id": "9e9c3c23",
   "metadata": {
    "id": "EhIhWCCvFx8M"
   },
   "outputs": [],
   "source": [
    "def assign_bboxes_to_all_anatomies(anatomy_matches, bbox_matches, bbx_dict):\n",
    "    anatomy_to_bbox = {}\n",
    "\n",
    "    for anatomy in anatomy_matches:\n",
    "        gt_bbox = bbx_dict.get(anatomy)\n",
    "\n",
    "        if gt_bbox:\n",
    "            best_bbox = get_best_bbox_for_anatomy(bbox_matches, gt_bbox)\n",
    "        else:\n",
    "            best_bbox = bbox_matches[0] if bbox_matches else None\n",
    "\n",
    "        if best_bbox:\n",
    "            if anatomy in anatomy_to_bbox:\n",
    "                if best_bbox not in anatomy_to_bbox[anatomy]:\n",
    "                    anatomy_to_bbox[anatomy].append(best_bbox)\n",
    "            else:\n",
    "                anatomy_to_bbox[anatomy] = [best_bbox]\n",
    "\n",
    "    return anatomy_to_bbox"
   ]
  },
  {
   "cell_type": "code",
   "execution_count": null,
   "id": "3451a583",
   "metadata": {
    "id": "0hed4A7SZX3m"
   },
   "outputs": [],
   "source": [
    "def extract_bboxes(text, bbx_dict):\n",
    "    \"\"\"\n",
    "    Extract predicted bounding boxes and return a dictionary in which the key is the anatomy\n",
    "    and the value is a tuple of lists containing multiple bounding boxes for that anatomy.\n",
    "    If the number of anatomies and bounding boxes do not match, all bounding boxes will be assigned\n",
    "    to each anatomy, but this will not be counted as a mismatch.\n",
    "    Invalid bounding boxes (those with zero width or height) are filtered out.\n",
    "    \"\"\"\n",
    "    mismatch_count = 0\n",
    "    text = text.lower()\n",
    "\n",
    "    anatomy_regex = re.compile(r'\\b(' + '|'.join(map(re.escape, sorted(bbx_dict.keys(), key=len, reverse=True))) + r')\\b')\n",
    "    anatomy_matches = anatomy_regex.findall(text)\n",
    "\n",
    "    bbox_matches = extract_bbox_from_text(text)\n",
    "    if not anatomy_matches:\n",
    "        if len(bbx_dict) == len(bbox_matches):\n",
    "            anatomy_matches = list(bbx_dict.keys())\n",
    "        else:\n",
    "            # print(\"Mismatch between bbx_dict keys and bbox_matches length.\")\n",
    "            mismatch_count += 1\n",
    "            return {}, mismatch_count\n",
    "    anatomy_to_bbox = assign_bboxes_to_all_anatomies(anatomy_matches, bbox_matches, bbx_dict)\n",
    "\n",
    "    # for anatomy, bboxes in anatomy_to_bbox.items():\n",
    "    #     if len(bboxes) > 1:\n",
    "    #         print(f\"Warning: Anatomy '{anatomy}' has more than one bounding box: {bboxes}\")\n",
    "    for anatomy, bboxes in anatomy_to_bbox.items():\n",
    "        if len(bboxes) > 1:\n",
    "            anatomy_to_bbox[anatomy] = max(bboxes, key=lambda bbox: calculate_iou(bbox, bbx_dict.get(anatomy, bboxes[0])))\n",
    "        else:\n",
    "            anatomy_to_bbox[anatomy] = bboxes[0]\n",
    "    check_key_length_mismatch(anatomy_to_bbox, bbx_dict, text)\n",
    "\n",
    "    return anatomy_to_bbox, mismatch_count"
   ]
  },
  {
   "cell_type": "markdown",
   "id": "1b794d4c",
   "metadata": {
    "id": "Rm8htF3KWpLd"
   },
   "source": [
    "# Calculate AP, AR and Average IOU"
   ]
  },
  {
   "cell_type": "code",
   "execution_count": null,
   "id": "107affb5",
   "metadata": {
    "id": "VTw6azs1YaXV"
   },
   "outputs": [],
   "source": [
    "def extract_dict(data):\n",
    "    bbx_dict_list = []\n",
    "    anatomy_to_bbox_list = []\n",
    "\n",
    "    for item in data:\n",
    "        bbx_dict = item['bbx_dict']\n",
    "        bbx_dict_list.append(bbx_dict)\n",
    "        anatomy_to_bbox, mismatch_count = extract_bboxes(item['output'], bbx_dict)\n",
    "        anatomy_to_bbox_list.append(anatomy_to_bbox)\n",
    "\n",
    "    return bbx_dict_list, anatomy_to_bbox_list"
   ]
  },
  {
   "cell_type": "code",
   "execution_count": null,
   "id": "0e90d1f7",
   "metadata": {
    "id": "uynDurNoyhyw"
   },
   "outputs": [],
   "source": [
    "def calculate_metrics_for_anatomy(anatomy, anatomy_to_bbox_list, bbx_dict_list, iou_threshold=0.5):\n",
    "    tp = 0\n",
    "    fp = 0\n",
    "    fn = 0\n",
    "    iou_sum = 0\n",
    "    iou_count = 0\n",
    "\n",
    "    for anatomy_to_bbox, bbx_dict in zip(anatomy_to_bbox_list, bbx_dict_list):\n",
    "        if anatomy in anatomy_to_bbox:\n",
    "            predicted_bbox = anatomy_to_bbox[anatomy]\n",
    "            if anatomy in bbx_dict:\n",
    "                gt_bbox = bbx_dict[anatomy]\n",
    "                iou = calculate_iou(predicted_bbox, gt_bbox)\n",
    "                if iou >= iou_threshold:\n",
    "                    tp += 1\n",
    "                else:\n",
    "                    fp += 1\n",
    "                iou_sum += iou\n",
    "                iou_count += 1\n",
    "            else:\n",
    "                fp += 1\n",
    "        else:\n",
    "            if anatomy in bbx_dict:\n",
    "                fn += 1\n",
    "\n",
    "    average_iou = iou_sum / iou_count if iou_count > 0 else 0.0\n",
    "    return tp, fp, fn, average_iou"
   ]
  },
  {
   "cell_type": "code",
   "execution_count": null,
   "id": "c1f56320",
   "metadata": {
    "id": "mR4O5I3Dkpwe"
   },
   "outputs": [],
   "source": [
    "def calculate_precision_recall(tp, fp, fn):\n",
    "    precision = tp / (tp + fp) if (tp + fp) > 0 else 0\n",
    "    recall = tp / (tp + fn) if (tp + fn) > 0 else 0\n",
    "    return precision, recall"
   ]
  },
  {
   "cell_type": "code",
   "execution_count": null,
   "id": "3ae04dab",
   "metadata": {
    "id": "0L2b3t8gky0i"
   },
   "outputs": [],
   "source": [
    "def calculate_ap_ar_iou_for_anatomies(anatomies, anatomy_to_bbox_list, bbx_dict_list, iou_threshold=0.5):\n",
    "    anatomy_metrics = {}\n",
    "    total_tp, total_fp, total_fn = 0, 0, 0\n",
    "    iou_sum, iou_count = 0.0, 0\n",
    "    ap_sum = 0\n",
    "    for anatomy in anatomies:\n",
    "        tp, fp, fn, average_iou = calculate_metrics_for_anatomy(anatomy, anatomy_to_bbox_list, bbx_dict_list, iou_threshold)\n",
    "        precision, recall = calculate_precision_recall(tp, fp, fn)\n",
    "\n",
    "        anatomy_metrics[anatomy] = {\n",
    "            'AP': precision,\n",
    "            'AR': recall,\n",
    "            'Average IOU': average_iou,\n",
    "            'TP': tp,\n",
    "            'FP': fp,\n",
    "            'FN': fn\n",
    "        }\n",
    "\n",
    "        total_tp += tp\n",
    "        total_fp += fp\n",
    "        total_fn += fn\n",
    "        ap_sum += precision\n",
    "        iou_sum += average_iou\n",
    "        iou_count += 1\n",
    "\n",
    "    mAP = ap_sum / len(anatomies) if len(anatomies) > 0 else 0\n",
    "    mAR = total_tp / (total_tp + total_fn) if (total_tp + total_fn) > 0 else 0\n",
    "    mean_average_iou = iou_sum / iou_count if iou_count > 0 else 0\n",
    "\n",
    "    return anatomy_metrics, mAP, mAR, mean_average_iou, total_tp, total_fp, total_fn\n",
    "\n"
   ]
  },
  {
   "cell_type": "code",
   "execution_count": null,
   "id": "fa16c4e8",
   "metadata": {
    "colab": {
     "base_uri": "https://localhost:8080/"
    },
    "id": "sIibfN08ZEFD",
    "outputId": "559ca959-701a-49bc-f271-22d92cdc9e9f"
   },
   "outputs": [],
   "source": [
    "bbx_dict_list, anatomy_to_bbox_list = extract_dict(ep1_multipleInstructions_formatted)"
   ]
  },
  {
   "cell_type": "code",
   "execution_count": null,
   "id": "7529a3c6",
   "metadata": {
    "colab": {
     "base_uri": "https://localhost:8080/"
    },
    "id": "PpZoRiNTl4jT",
    "outputId": "ac62115e-6d09-4b88-f1ab-f16382b8fdac"
   },
   "outputs": [],
   "source": [
    "anatomy_metrics, mAP, mAR, mean_average_iou, total_tp, total_fp, total_fn = calculate_ap_ar_iou_for_anatomies(\n",
    "    anatomies, anatomy_to_bbox_list, bbx_dict_list\n",
    ")\n",
    "\n",
    "for anatomy, metrics in anatomy_metrics.items():\n",
    "    print(f\"{anatomy}: AP = {metrics['AP']:.4f}, AR = {metrics['AR']:.4f}, Average IOU = {metrics['Average IOU']:.4f}, TP = {metrics['TP']}, FP = {metrics['FP']}, FN = {metrics['FN']}\")\n",
    "\n",
    "\n",
    "# Print overall metrics\n",
    "print(f\"Mean Average Precision (mAP): {mAP:.4f}\")\n",
    "print(f\"Mean Average Recall (mAR): {mAR:.4f}\")\n",
    "print(f\"Mean Average IOU: {mean_average_iou:.4f}\")\n",
    "print(f\"Total True Positives (TP): {total_tp}\")\n",
    "print(f\"Total False Positives (FP): {total_fp}\")\n",
    "print(f\"Total False Negatives (FN): {total_fn}\")"
   ]
  },
  {
   "cell_type": "code",
   "execution_count": null,
   "id": "927edd95",
   "metadata": {
    "colab": {
     "base_uri": "https://localhost:8080/"
    },
    "id": "5dzI_hZ7mLlt",
    "outputId": "059c70c9-d9fd-4092-d5f4-1209db7e9a9e"
   },
   "outputs": [],
   "source": [
    "bbx_dict_list, anatomy_to_bbox_list = extract_dict(ep1_multipleInstructions_weighted_formatted)"
   ]
  },
  {
   "cell_type": "code",
   "execution_count": null,
   "id": "ee6d1500",
   "metadata": {
    "colab": {
     "base_uri": "https://localhost:8080/"
    },
    "id": "WyDxc0YkmTt5",
    "outputId": "b33f125a-2d0b-4509-c7c0-6ffb0e172e56"
   },
   "outputs": [],
   "source": [
    "anatomy_metrics, mAP, mAR, mean_average_iou, total_tp, total_fp, total_fn = calculate_ap_ar_iou_for_anatomies(\n",
    "    anatomies, anatomy_to_bbox_list, bbx_dict_list\n",
    ")\n",
    "\n",
    "for anatomy, metrics in anatomy_metrics.items():\n",
    "    print(f\"{anatomy}: AP = {metrics['AP']:.4f}, AR = {metrics['AR']:.4f}, Average IOU = {metrics['Average IOU']:.4f}, TP = {metrics['TP']}, FP = {metrics['FP']}, FN = {metrics['FN']}\")\n",
    "\n",
    "print(f\"Mean Average Precision (mAP): {mAP:.4f}\")\n",
    "print(f\"Mean Average Recall (mAR): {mAR:.4f}\")\n",
    "print(f\"Mean Average IOU: {mean_average_iou:.4f}\")\n",
    "print(f\"Total True Positives (TP): {total_tp}\")\n",
    "print(f\"Total False Positives (FP): {total_fp}\")\n",
    "print(f\"Total False Negatives (FN): {total_fn}\")"
   ]
  },
  {
   "cell_type": "code",
   "execution_count": null,
   "id": "d43e3221",
   "metadata": {
    "id": "PIFdEfUomMOo"
   },
   "outputs": [],
   "source": [
    "bbx_dict_list, anatomy_to_bbox_list = extract_dict(ep1_singleInstruction_formatted)"
   ]
  },
  {
   "cell_type": "code",
   "execution_count": null,
   "id": "076b6b5e",
   "metadata": {
    "colab": {
     "base_uri": "https://localhost:8080/"
    },
    "id": "K_ALX7PGmUaB",
    "outputId": "ce06c340-f663-4356-9c94-9bf334aaee52"
   },
   "outputs": [],
   "source": [
    "anatomy_metrics, mAP, mAR, mean_average_iou, total_tp, total_fp, total_fn = calculate_ap_ar_iou_for_anatomies(\n",
    "    anatomies, anatomy_to_bbox_list, bbx_dict_list\n",
    ")\n",
    "\n",
    "for anatomy, metrics in anatomy_metrics.items():\n",
    "    print(f\"{anatomy}: AP = {metrics['AP']:.4f}, AR = {metrics['AR']:.4f}, Average IOU = {metrics['Average IOU']:.4f}, TP = {metrics['TP']}, FP = {metrics['FP']}, FN = {metrics['FN']}\")\n",
    "\n",
    "\n",
    "print(f\"Mean Average Precision (mAP): {mAP:.4f}\")\n",
    "print(f\"Mean Average Recall (mAR): {mAR:.4f}\")\n",
    "print(f\"Mean Average IOU: {mean_average_iou:.4f}\")\n",
    "print(f\"Total True Positives (TP): {total_tp}\")\n",
    "print(f\"Total False Positives (FP): {total_fp}\")\n",
    "print(f\"Total False Negatives (FN): {total_fn}\")"
   ]
  },
  {
   "cell_type": "code",
   "execution_count": null,
   "id": "8c2f2a83",
   "metadata": {
    "colab": {
     "base_uri": "https://localhost:8080/"
    },
    "id": "HTdflLpEmMe0",
    "outputId": "fac1ca84-4107-40e5-81d3-ee9617b0ec59"
   },
   "outputs": [],
   "source": [
    "bbx_dict_list, anatomy_to_bbox_list = extract_dict(ep1_singleInstruction_weighted_formatted)"
   ]
  },
  {
   "cell_type": "code",
   "execution_count": null,
   "id": "ae15aa14",
   "metadata": {
    "colab": {
     "base_uri": "https://localhost:8080/"
    },
    "id": "J0o5xpuymVKD",
    "outputId": "3ee59f0a-7e46-4499-c8d2-9acf9d04da81"
   },
   "outputs": [],
   "source": [
    "anatomy_metrics, mAP, mAR, mean_average_iou, total_tp, total_fp, total_fn = calculate_ap_ar_iou_for_anatomies(\n",
    "    anatomies, anatomy_to_bbox_list, bbx_dict_list\n",
    ")\n",
    "\n",
    "for anatomy, metrics in anatomy_metrics.items():\n",
    "    print(f\"{anatomy}: AP = {metrics['AP']:.4f}, AR = {metrics['AR']:.4f}, Average IOU = {metrics['Average IOU']:.4f}, TP = {metrics['TP']}, FP = {metrics['FP']}, FN = {metrics['FN']}\")\n",
    "\n",
    "\n",
    "print(f\"Mean Average Precision (mAP): {mAP:.4f}\")\n",
    "print(f\"Mean Average Recall (mAR): {mAR:.4f}\")\n",
    "print(f\"Mean Average IOU: {mean_average_iou:.4f}\")\n",
    "print(f\"Total True Positives (TP): {total_tp}\")\n",
    "print(f\"Total False Positives (FP): {total_fp}\")\n",
    "print(f\"Total False Negatives (FN): {total_fn}\")"
   ]
  },
  {
   "cell_type": "code",
   "execution_count": null,
   "id": "548b28a7",
   "metadata": {
    "colab": {
     "base_uri": "https://localhost:8080/"
    },
    "id": "4bdxzA_tmMr3",
    "outputId": "c8cd9f62-b362-4815-fb08-66c0fed68a3c"
   },
   "outputs": [],
   "source": [
    "bbx_dict_list, anatomy_to_bbox_list = extract_dict(ep2_singleInstruction_formatted)"
   ]
  },
  {
   "cell_type": "code",
   "execution_count": null,
   "id": "03b19d28",
   "metadata": {
    "colab": {
     "base_uri": "https://localhost:8080/"
    },
    "id": "rUAGiR5bmV7Q",
    "outputId": "49c1b995-15b2-4f47-abd7-7d11c5af215b"
   },
   "outputs": [],
   "source": [
    "anatomy_metrics, mAP, mAR, mean_average_iou, total_tp, total_fp, total_fn = calculate_ap_ar_iou_for_anatomies(\n",
    "    anatomies, anatomy_to_bbox_list, bbx_dict_list\n",
    ")\n",
    "\n",
    "for anatomy, metrics in anatomy_metrics.items():\n",
    "    print(f\"{anatomy}: AP = {metrics['AP']:.4f}, AR = {metrics['AR']:.4f}, Average IOU = {metrics['Average IOU']:.4f}, TP = {metrics['TP']}, FP = {metrics['FP']}, FN = {metrics['FN']}\")\n",
    "\n",
    "print(f\"Mean Average Precision (mAP): {mAP:.4f}\")\n",
    "print(f\"Mean Average Recall (mAR): {mAR:.4f}\")\n",
    "print(f\"Mean Average IOU: {mean_average_iou:.4f}\")\n",
    "print(f\"Total True Positives (TP): {total_tp}\")\n",
    "print(f\"Total False Positives (FP): {total_fp}\")\n",
    "print(f\"Total False Negatives (FN): {total_fn}\")"
   ]
  },
  {
   "cell_type": "code",
   "execution_count": null,
   "id": "acd9c59d",
   "metadata": {
    "colab": {
     "base_uri": "https://localhost:8080/"
    },
    "id": "4lTSkMBWu1LB",
    "outputId": "ed80d4d7-b8b7-4036-fe73-74a56a30e818"
   },
   "outputs": [],
   "source": [
    "bbx_dict_list, anatomy_to_bbox_list = extract_dict(ep3_multipleInstructions_formatted)"
   ]
  },
  {
   "cell_type": "code",
   "execution_count": null,
   "id": "c4de9f75",
   "metadata": {
    "colab": {
     "base_uri": "https://localhost:8080/"
    },
    "id": "XlXhkKyftOOT",
    "outputId": "e22026e8-be54-4713-d68f-d1bb12f77b55"
   },
   "outputs": [],
   "source": [
    "anatomy_metrics, mAP, mAR, mean_average_iou, total_tp, total_fp, total_fn = calculate_ap_ar_iou_for_anatomies(\n",
    "    anatomies, anatomy_to_bbox_list, bbx_dict_list\n",
    ")\n",
    "\n",
    "for anatomy, metrics in anatomy_metrics.items():\n",
    "    print(f\"{anatomy}: AP = {metrics['AP']:.4f}, AR = {metrics['AR']:.4f}, Average IOU = {metrics['Average IOU']:.4f}, TP = {metrics['TP']}, FP = {metrics['FP']}, FN = {metrics['FN']}\")\n",
    "\n",
    "\n",
    "print(f\"Mean Average Precision (mAP): {mAP:.4f}\")\n",
    "print(f\"Mean Average Recall (mAR): {mAR:.4f}\")\n",
    "print(f\"Mean Average IOU: {mean_average_iou:.4f}\")\n",
    "print(f\"Total True Positives (TP): {total_tp}\")\n",
    "print(f\"Total False Positives (FP): {total_fp}\")\n",
    "print(f\"Total False Negatives (FN): {total_fn}\")"
   ]
  },
  {
   "cell_type": "code",
   "execution_count": null,
   "id": "69309ee5",
   "metadata": {
    "colab": {
     "base_uri": "https://localhost:8080/"
    },
    "id": "4wa2-o47u5Tf",
    "outputId": "aa4140cf-72c8-4d63-f167-a59e5271e757"
   },
   "outputs": [],
   "source": [
    "bbx_dict_list, anatomy_to_bbox_list = extract_dict(ep3_singleInstruction_formatted)"
   ]
  },
  {
   "cell_type": "code",
   "execution_count": null,
   "id": "5f974b78",
   "metadata": {
    "colab": {
     "base_uri": "https://localhost:8080/"
    },
    "id": "pPO11Kt5tVzN",
    "outputId": "8c28e4c2-d3ea-4a89-8f63-9a2c32b574e0"
   },
   "outputs": [],
   "source": [
    "anatomy_metrics, mAP, mAR, mean_average_iou, total_tp, total_fp, total_fn = calculate_ap_ar_iou_for_anatomies(\n",
    "    anatomies, anatomy_to_bbox_list, bbx_dict_list\n",
    ")\n",
    "\n",
    "for anatomy, metrics in anatomy_metrics.items():\n",
    "    print(f\"{anatomy}: AP = {metrics['AP']:.4f}, AR = {metrics['AR']:.4f}, Average IOU = {metrics['Average IOU']:.4f}, TP = {metrics['TP']}, FP = {metrics['FP']}, FN = {metrics['FN']}\")\n",
    "\n",
    "print(f\"Mean Average Precision (mAP): {mAP:.4f}\")\n",
    "print(f\"Mean Average Recall (mAR): {mAR:.4f}\")\n",
    "print(f\"Mean Average IOU: {mean_average_iou:.4f}\")\n",
    "print(f\"Total True Positives (TP): {total_tp}\")\n",
    "print(f\"Total False Positives (FP): {total_fp}\")\n",
    "print(f\"Total False Negatives (FN): {total_fn}\")"
   ]
  },
  {
   "cell_type": "code",
   "execution_count": null,
   "id": "c6b4e10d",
   "metadata": {
    "colab": {
     "base_uri": "https://localhost:8080/"
    },
    "id": "2_vuNfvtdMZy",
    "outputId": "1a1d894f-45b1-45be-a41c-16bc4079a092"
   },
   "outputs": [],
   "source": [
    "bbx_dict_list[:2]"
   ]
  },
  {
   "cell_type": "code",
   "execution_count": null,
   "id": "4e5b2c8b",
   "metadata": {
    "colab": {
     "base_uri": "https://localhost:8080/"
    },
    "id": "OtgcQsASdbgU",
    "outputId": "7f3c0309-b481-49cd-cd64-0b20f41ad2a1"
   },
   "outputs": [],
   "source": [
    "anatomy_to_bbox_list[:2]"
   ]
  },
  {
   "cell_type": "markdown",
   "id": "3c5051ef",
   "metadata": {
    "id": "nmx-uyIOr7vb"
   },
   "source": [
    "# Output the metrics based on the quantity of anatomies"
   ]
  },
  {
   "cell_type": "code",
   "execution_count": null,
   "id": "1d242854",
   "metadata": {
    "id": "BW8PVTSEtMfs"
   },
   "outputs": [],
   "source": [
    "def categorize_by_length(bbx_dict_list):\n",
    "    categorized_indices = defaultdict(list)\n",
    "\n",
    "    for idx, bbx_dict in enumerate(bbx_dict_list):\n",
    "        length = len(bbx_dict)\n",
    "        if 1 <= length <= 5:\n",
    "            categorized_indices[length].append(idx)\n",
    "\n",
    "    return categorized_indices"
   ]
  },
  {
   "cell_type": "code",
   "execution_count": null,
   "id": "67366ce8",
   "metadata": {
    "id": "EdBUoUYqsFs9"
   },
   "outputs": [],
   "source": [
    "def calculate_metrics_by_category(anatomies, anatomy_to_bbox_list, bbx_dict_list, categorized_indices, iou_threshold=0.5):\n",
    "    metrics_by_category = {}\n",
    "    for length, indices in categorized_indices.items():\n",
    "        sub_anatomy_to_bbox_list = [anatomy_to_bbox_list[idx] for idx in indices]\n",
    "        sub_bbx_dict_list = [bbx_dict_list[idx] for idx in indices]\n",
    "        anatomy_metrics, mAP, mAR, mean_average_iou, total_tp, total_fp, total_fn = calculate_ap_ar_iou_for_anatomies(anatomies, sub_anatomy_to_bbox_list, sub_bbx_dict_list, iou_threshold)\n",
    "        metrics_by_category[length] = {\n",
    "            'mAP': mAP,\n",
    "            'mAR': mAR,\n",
    "            'Mean Average IOU': mean_average_iou,\n",
    "            'TP': total_tp,\n",
    "            'FP': total_fp,\n",
    "            'FN': total_fn,\n",
    "            'Anatomy Metrics': anatomy_metrics\n",
    "        }\n",
    "\n",
    "    return metrics_by_category"
   ]
  },
  {
   "cell_type": "code",
   "execution_count": null,
   "id": "93cf8d3a",
   "metadata": {
    "id": "zoPN9jlOtUDr"
   },
   "outputs": [],
   "source": [
    "def main(data, anatomies):\n",
    "    bbx_dict_list, anatomy_to_bbox_list = extract_dict(data)\n",
    "    categorized_indices = categorize_by_length(bbx_dict_list)\n",
    "    metrics_by_category = calculate_metrics_by_category(anatomies, anatomy_to_bbox_list, bbx_dict_list, categorized_indices)\n",
    "    for length, metrics in metrics_by_category.items():\n",
    "        # print(metrics)\n",
    "        print(f\"Category with {length} anatomies:\")\n",
    "        print(f\"  Mean Average Precision (mAP): {metrics['mAP']:.4f}\")\n",
    "        print(f\"  Mean Average Recall (mAR): {metrics['mAR']:.4f}\")\n",
    "        print(f\"  Mean Average IOU: {metrics['Mean Average IOU']:.4f}\")\n",
    "        print()"
   ]
  },
  {
   "cell_type": "code",
   "execution_count": null,
   "id": "93604519",
   "metadata": {
    "id": "QuLEJs1ithOo"
   },
   "outputs": [],
   "source": []
  },
  {
   "cell_type": "code",
   "execution_count": null,
   "id": "4f66e2eb",
   "metadata": {
    "colab": {
     "base_uri": "https://localhost:8080/"
    },
    "id": "WfHUm1A2tkbA",
    "outputId": "987bd97d-13cc-4936-b5e2-854ea5cb27d4"
   },
   "outputs": [],
   "source": [
    "main(ep2_singleInstruction_formatted, anatomies)"
   ]
  },
  {
   "cell_type": "markdown",
   "id": "84f140b0",
   "metadata": {
    "id": "1mbpPMY_tu_d"
   },
   "source": [
    "# Output the metrics according to the size"
   ]
  },
  {
   "cell_type": "code",
   "execution_count": null,
   "id": "1df6503b",
   "metadata": {
    "id": "b9GfoZ4Ytr6T"
   },
   "outputs": [],
   "source": [
    "ap_dict = {\n",
    "    \"abdomen\": 0.9848,\n",
    "    \"aortic arch\": 0.1295,\n",
    "    \"cardiac silhouette\": 0.8905,\n",
    "    \"carina\": 0.1032,\n",
    "    \"cavoatrial junction\": 0.5954,\n",
    "    \"descending aorta\": 0.6449,\n",
    "    \"left apical zone\": 0.4026,\n",
    "    \"left cardiac silhouette\": 0.8907,\n",
    "    \"left cardiophrenic angle\": 0.0897,\n",
    "    \"left clavicle\": 0.4246,\n",
    "    \"left costophrenic angle\": 0.0671,\n",
    "    \"left hemidiaphragm\": 0.5543,\n",
    "    \"left hilar structures\": 0.8063,\n",
    "    \"left lower lung zone\": 0.8731,\n",
    "    \"left lung\": 0.9794,\n",
    "    \"left mid lung zone\": 0.7504,\n",
    "    \"left upper abdomen\": 0.9825,\n",
    "    \"left upper lung zone\": 0.8217,\n",
    "    \"mediastinum\": 0.9510,\n",
    "    \"right apical zone\": 0.4060,\n",
    "    \"right atrium\": 0.7275,\n",
    "    \"right cardiac silhouette\": 0.8214,\n",
    "    \"right cardiophrenic angle\": 0.2614,\n",
    "    \"right clavicle\": 0.4525,\n",
    "    \"right costophrenic angle\": 0.0771,\n",
    "    \"right hemidiaphragm\": 0.6305,\n",
    "    \"right hilar structures\": 0.8002,\n",
    "    \"right lower lung zone\": 0.9081,\n",
    "    \"right lung\": 0.9724,\n",
    "    \"right mid lung zone\": 0.7230,\n",
    "    \"right upper abdomen\": 0.9596,\n",
    "    \"right upper lung zone\": 0.7870,\n",
    "    \"spine\": 0.9757,\n",
    "    \"svc\": 0.6436,\n",
    "    \"trachea\": 0.8300,\n",
    "    \"upper mediastinum\": 0.9013\n",
    "}\n"
   ]
  },
  {
   "cell_type": "code",
   "execution_count": null,
   "id": "c43ef33f",
   "metadata": {
    "id": "Q1Hz4cqC1DTL"
   },
   "outputs": [],
   "source": [
    "large_anatomy = ['abdomen', 'left lung', 'mediastinum', 'right lung', 'spine']\n",
    "medium_large_anatomy = ['cardiac silhouette', 'left lower lung zone', 'left upper abdomen', 'right upper abdomen']\n",
    "medium_small_anatomy = ['descending aorta', 'left apical zone', 'left cardiac silhouette', 'left clavicle',\n",
    "                        'left hemidiaphragm', 'left mid lung zone', 'left upper lung zone', 'right apical zone',\n",
    "                        'right clavicle', 'right hemidiaphragm', 'right lower lung zone', 'right mid lung zone',\n",
    "                        'right upper lung zone', 'trachea', 'upper mediastinum']\n",
    "small_anatomy = ['aortic arch', 'carina', 'cavoatrial junction', 'left cardiophrenic angle', 'left costophrenic angle',\n",
    "                 'left hilar structures', 'right atrium', 'right cardiac silhouette', 'right cardiophrenic angle',\n",
    "                 'right costophrenic angle', 'right hilar structures', 'svc']"
   ]
  },
  {
   "cell_type": "code",
   "execution_count": null,
   "id": "2c918ded",
   "metadata": {
    "id": "u1K7mT1z12Rv"
   },
   "outputs": [],
   "source": [
    "def calculate_average_ap(anatomy_list, ap_dict):\n",
    "    total_ap = sum(ap_dict[anatomy] for anatomy in anatomy_list)\n",
    "    return total_ap / len(anatomy_list)"
   ]
  },
  {
   "cell_type": "code",
   "execution_count": null,
   "id": "77dad428",
   "metadata": {
    "colab": {
     "base_uri": "https://localhost:8080/"
    },
    "id": "qzZQuMoY129N",
    "outputId": "958a90ee-c490-4bd4-9ca6-97973d30f1e5"
   },
   "outputs": [],
   "source": [
    "average_ap_large = calculate_average_ap(large_anatomy, ap_dict)\n",
    "average_ap_medium_large = calculate_average_ap(medium_large_anatomy, ap_dict)\n",
    "average_ap_medium_small = calculate_average_ap(medium_small_anatomy, ap_dict)\n",
    "average_ap_small = calculate_average_ap(small_anatomy, ap_dict)\n",
    "\n",
    "print(\"Average AP for large anatomy:\", average_ap_large)\n",
    "print(\"Average AP for medium-large anatomy:\", average_ap_medium_large)\n",
    "print(\"Average AP for medium-small anatomy:\", average_ap_medium_small)\n",
    "print(\"Average AP for small anatomy:\", average_ap_small)"
   ]
  },
  {
   "cell_type": "code",
   "execution_count": null,
   "id": "f98085bf",
   "metadata": {
    "colab": {
     "base_uri": "https://localhost:8080/"
    },
    "id": "o1_aFior15sz",
    "outputId": "0d41e461-d8cc-4434-99f8-a5e5222278ae"
   },
   "outputs": [],
   "source": [
    "import pandas as pd\n",
    "import statsmodels.api as sm\n",
    "\n",
    "anatomy_data = {\n",
    "    'anatomy': [\"abdomen\", \"aortic arch\", \"cardiac silhouette\", \"carina\", \"cavoatrial junction\",\n",
    "                \"descending aorta\", \"left apical zone\", \"left cardiac silhouette\", \"left cardiophrenic angle\",\n",
    "                \"left clavicle\", \"left costophrenic angle\", \"left hemidiaphragm\", \"left hilar structures\",\n",
    "                \"left lower lung zone\", \"left lung\", \"left mid lung zone\", \"left upper abdomen\",\n",
    "                \"left upper lung zone\", \"mediastinum\", \"right apical zone\", \"right atrium\",\n",
    "                \"right cardiac silhouette\", \"right cardiophrenic angle\", \"right clavicle\",\n",
    "                \"right costophrenic angle\", \"right hemidiaphragm\", \"right hilar structures\",\n",
    "                \"right lower lung zone\", \"right lung\", \"right mid lung zone\", \"right upper abdomen\",\n",
    "                \"right upper lung zone\", \"spine\", \"svc\", \"trachea\", \"upper mediastinum\"],\n",
    "    'performance_score': [0.9791, 0.1839, 0.8875, 0.1280, 0.5980, 0.5946, 0.3859, 0.8876,\n",
    "                          0.0805, 0.3850, 0.0769, 0.3737, 0.8524, 0.8753, 0.9810, 0.8231,\n",
    "                          0.9764, 0.8040, 0.9501, 0.3610, 0.6857, 0.7990, 0.1615, 0.3807,\n",
    "                          0.0695, 0.4424, 0.8601, 0.9013, 0.9734, 0.8370, 0.9540, 0.8383,\n",
    "                          0.9794, 0.7012, 0.8167, 0.8866],\n",
    "    'area': [0.261785, 0.007442, 0.104342, 0.001889, 0.008393, 0.032765, 0.034129, 0.067855,\n",
    "             0.012220, 0.044184, 0.008193, 0.048669, 0.029804, 0.078252, 0.213593, 0.041016,\n",
    "             0.115691, 0.062117, 0.204767, 0.034344, 0.017663, 0.026029, 0.006754, 0.044548,\n",
    "             0.008132, 0.053263, 0.028140, 0.072208, 0.208074, 0.037906, 0.129990, 0.062344,\n",
    "             0.162061, 0.015124, 0.051271, 0.048524],\n",
    "    'size_category': [\"Very Large\", \"Small\", \"Very Large\", \"Small\", \"Small\", \"Medium\", \"Medium\",\n",
    "                      \"Large\", \"Small\", \"Medium\", \"Small\", \"Medium\", \"Medium\", \"Large\", \"Very Large\",\n",
    "                      \"Medium\", \"Very Large\", \"Large\", \"Very Large\", \"Medium\", \"Small\", \"Medium\",\n",
    "                      \"Small\", \"Medium\", \"Small\", \"Large\", \"Medium\", \"Large\", \"Very Large\", \"Medium\",\n",
    "                      \"Very Large\", \"Large\", \"Very Large\", \"Small\", \"Large\", \"Medium\"],\n",
    "    'occurrence': [42503, 14728, 9956, 14600, 11580, 775, 3253, 23843, 47386, 25265, 3252,\n",
    "                   5863, 3888, 26355, 19178, 47227, 3106, 330, 2441, 2676, 14083, 3654, 14611,\n",
    "                   5547, 1027, 30208, 2644, 14263, 7560, 19703, 1124, 43026, 9330, 7342, 11908,\n",
    "                   5637]\n",
    "}\n",
    "\n",
    "df = pd.DataFrame(anatomy_data)\n",
    "\n",
    "df = pd.get_dummies(df, columns=['size_category'], drop_first=True)\n",
    "\n",
    "X = df[['area', 'occurrence']]\n",
    "y = df['performance_score']\n",
    "\n",
    "X = sm.add_constant(X)\n",
    "\n",
    "model = sm.OLS(y, X).fit()\n",
    "print(model.summary())\n"
   ]
  },
  {
   "cell_type": "code",
   "execution_count": null,
   "id": "44bf2549",
   "metadata": {
    "colab": {
     "base_uri": "https://localhost:8080/",
     "height": 564
    },
    "id": "mUIJu8Z9ZKHe",
    "outputId": "b7bf4b60-448f-40a2-88f6-a4ed86124ee7"
   },
   "outputs": [],
   "source": [
    "import numpy as np\n",
    "import pandas as pd\n",
    "import matplotlib.pyplot as plt\n",
    "from scipy.stats import pearsonr, spearmanr\n",
    "from sklearn.linear_model import LinearRegression\n",
    "\n",
    "pearson_corr, pearson_p_value = pearsonr(df['performance_score'], df['area'])\n",
    "spearman_corr, spearman_p_value = spearmanr(df['performance_score'], df['area'])\n",
    "\n",
    "X = df['area'].values.reshape(-1, 1)\n",
    "y = df['performance_score'].values\n",
    "regression_model = LinearRegression()\n",
    "regression_model.fit(X, y)\n",
    "predicted_values = regression_model.predict(X)\n",
    "plt.figure(figsize=(10, 6))\n",
    "plt.scatter(df['area'], df['performance_score'], color='blue', alpha=0.6, label='Anatomy Performance')\n",
    "plt.plot(df['area'], predicted_values, color='red', label='Regression Line')\n",
    "plt.xlabel('Area')\n",
    "plt.ylabel('Average Precision (AP)')\n",
    "plt.title('Relationship between Area and Average Precision (AP)')\n",
    "plt.legend()\n",
    "\n",
    "plt.text(0.05, 0.95, f\"Pearson Correlation: {pearson_corr:.4f} (P-value: {pearson_p_value:.10f})\\n\"\n",
    "                     f\"Spearman Correlation: {spearman_corr:.4f} (P-value: {spearman_p_value:.10f})\",\n",
    "         ha='left', va='top', transform=plt.gca().transAxes, fontsize=12, color='black', bbox=dict(facecolor='white', alpha=0.5))\n",
    "\n",
    "\n",
    "plt.grid(True)\n",
    "plt.show()\n"
   ]
  },
  {
   "cell_type": "code",
   "execution_count": null,
   "id": "68dc995c",
   "metadata": {
    "colab": {
     "base_uri": "https://localhost:8080/",
     "height": 268
    },
    "id": "pj9Jf1H7coey",
    "outputId": "61030d6b-8a5a-4eda-a692-05d819072bd7"
   },
   "outputs": [],
   "source": [
    "import numpy as np\n",
    "import matplotlib.pyplot as plt\n",
    "from sklearn.linear_model import LinearRegression\n",
    "\n",
    "models = [\n",
    "    \"LLaVA-Imbal-High-e1\", \"LLaVA-Bal-High-e1\", \"LLaVA-Imbal-Low-e1\",\n",
    "    \"LLaVA-Bal-Low-e1\", \"LLaVA-Bal-Low-e2\", \"LLaVA-Bal-High-e3\",\n",
    "    \"LLaVA-Bal-Low-e3\"\n",
    "]\n",
    "\n",
    "area_values = np.array([\n",
    "    0.261785, 0.007442, 0.104342, 0.001889, 0.008393, 0.032765, 0.034129, 0.067855,\n",
    "    0.012220, 0.044184, 0.008193, 0.048669, 0.029804, 0.078252, 0.213593, 0.041016,\n",
    "    0.115691, 0.062117, 0.204767, 0.034344, 0.017663, 0.026029, 0.006754, 0.044548,\n",
    "    0.008132, 0.053263, 0.028140, 0.072208, 0.208074, 0.037906, 0.129990, 0.062344,\n",
    "    0.162061, 0.015124, 0.051271, 0.048524\n",
    "])\n",
    "\n",
    "ap_data = [\n",
    "    # LLaVA-Imbal-Multi-e1\n",
    "    [\n",
    "        0.9812, 0.0421, 0.8890, 0.0242, 0.5194, 0.5786, 0.2974, 0.8840,\n",
    "        0.1081, 0.3427, 0.0861, 0.4884, 0.7861, 0.8776, 0.9763, 0.6536,\n",
    "        0.9769, 0.7325, 0.9460, 0.2832, 0.6475, 0.7436, 0.1552, 0.3072,\n",
    "        0.0771, 0.5426, 0.6619, 0.8765, 0.9634, 0.5916, 0.9519, 0.6462,\n",
    "        0.9746, 0.4468, 0.7763, 0.7945\n",
    "    ],\n",
    "    # LLaVA-Bal-Multi-e1\n",
    "    [\n",
    "        0.9859, 0.1429, 0.8951, 0.1006, 0.6198, 0.6495, 0.3318, 0.8927,\n",
    "        0.0862, 0.3905, 0.0834, 0.4381, 0.8365, 0.8780, 0.9810, 0.7907,\n",
    "        0.9810, 0.7854, 0.9531, 0.3467, 0.7071, 0.8167, 0.2241, 0.4320,\n",
    "        0.0695, 0.4594, 0.8315, 0.9060, 0.9764, 0.7795, 0.9561, 0.8092,\n",
    "        0.9788, 0.6848, 0.8250, 0.8952\n",
    "    ],\n",
    "    # LLaVA-Imbal-Single-e1\n",
    "    [\n",
    "        0.9791, 0.1839, 0.8875, 0.1280, 0.5980, 0.5946, 0.3859, 0.8876,\n",
    "        0.0805, 0.3850, 0.0769, 0.3737, 0.8524, 0.8753, 0.9810, 0.8231,\n",
    "        0.9764, 0.8040, 0.9501, 0.3610, 0.6857, 0.7990, 0.1615, 0.3807,\n",
    "        0.0695, 0.4424, 0.8601, 0.9013, 0.9734, 0.8370, 0.9540, 0.8383,\n",
    "        0.9794, 0.7012, 0.8167, 0.8866\n",
    "    ],\n",
    "    # LLaVA-Bal-Single-e1\n",
    "    [\n",
    "        0.9843, 0.1519, 0.8946, 0.0964, 0.6192, 0.6901, 0.3620, 0.8985,\n",
    "        0.0841, 0.3927, 0.0877, 0.4743, 0.8503, 0.8764, 0.9810, 0.8017,\n",
    "        0.9805, 0.8206, 0.9566, 0.3526, 0.6882, 0.8136, 0.1862, 0.4033,\n",
    "        0.0792, 0.4667, 0.8345, 0.9050, 0.9784, 0.7959, 0.9582, 0.8187,\n",
    "        0.9804, 0.6952, 0.8300, 0.8967\n",
    "    ],\n",
    "    # LLaVA-Bal-Single-e2\n",
    "    [\n",
    "        0.9848, 0.1295, 0.8905, 0.1032, 0.5954, 0.6449, 0.4026, 0.8907,\n",
    "        0.0897, 0.4246, 0.0671, 0.5543, 0.8063, 0.8731, 0.9794, 0.7504,\n",
    "        0.9825, 0.8217, 0.9510, 0.4060, 0.7275, 0.8214, 0.2614, 0.4525,\n",
    "        0.0771, 0.6305, 0.8002, 0.9081, 0.9724, 0.7230, 0.9596, 0.7870,\n",
    "        0.9757, 0.6436, 0.8300, 0.9013\n",
    "    ],\n",
    "    # LLaVA-Bal-Multi-e3\n",
    "    [\n",
    "        0.9796, 0.0448, 0.8890, 0.0369, 0.6110, 0.5493, 0.2042, 0.8804,\n",
    "        0.0697, 0.2783, 0.0747, 0.3929, 0.7415, 0.8737, 0.9757, 0.6787,\n",
    "        0.9753, 0.6304, 0.9435, 0.2440, 0.7351, 0.8157, 0.2041, 0.3153,\n",
    "        0.0700, 0.4119, 0.8002, 0.9039, 0.9709, 0.7057, 0.9518, 0.6950,\n",
    "        0.9757, 0.6365, 0.8117, 0.8703\n",
    "    ],\n",
    "    # LLaVA-Bal-Single-e3\n",
    "    [\n",
    "        0.9801, 0.0410, 0.8900, 0.0500, 0.6255, 0.5247, 0.1693, 0.8835,\n",
    "        0.0651, 0.2904, 0.0736, 0.3778, 0.7521, 0.8665, 0.9762, 0.6942,\n",
    "        0.9743, 0.6172, 0.9470, 0.2474, 0.7441, 0.8214, 0.2341, 0.3137,\n",
    "        0.0710, 0.3995, 0.8084, 0.9076, 0.9719, 0.7231, 0.9540, 0.7209,\n",
    "        0.9746, 0.6358, 0.8123, 0.8815\n",
    "    ]\n",
    "]\n",
    "\n",
    "\n",
    "fig, axes = plt.subplots(1, 7, figsize=(16, 3), sharex=True, sharey=True)\n",
    "fig.subplots_adjust(hspace=0.3, wspace=0.3)\n",
    "axes = axes.flatten()\n",
    "\n",
    "for i, (model, ap_values) in enumerate(zip(models, ap_data)):\n",
    "    ap_values = np.array(ap_values)\n",
    "\n",
    "    regression_model = LinearRegression()\n",
    "    area_values_reshaped = area_values.reshape(-1, 1)\n",
    "    regression_model.fit(area_values_reshaped, ap_values)\n",
    "    predicted_ap_values = regression_model.predict(area_values_reshaped)\n",
    "\n",
    "    intercept = regression_model.intercept_\n",
    "    slope = regression_model.coef_[0]\n",
    "\n",
    "    axes[i].scatter(area_values, ap_values, color='blue', s=10)\n",
    "    axes[i].plot(area_values, predicted_ap_values, color='red')\n",
    "    axes[i].set_title(f\"{model}\")\n",
    "    axes[i].set_xlabel('Area of Anatomy')\n",
    "    axes[i].set_ylabel('Average Precision')\n",
    "    axes[i].grid(False)\n",
    "    axes[i].set_facecolor(\"#f8f8f8\")\n",
    "\n",
    "    axes[i].text(0.05, 0.95, f\"Intercept: {intercept:.2f}\\nSlope: {slope:.2f}\",\n",
    "                 transform=axes[i].transAxes, fontsize=8, verticalalignment='top')\n",
    "plt.savefig(\"regression_plots.pdf\", format=\"pdf\", bbox_inches=\"tight\")\n",
    "plt.show()"
   ]
  },
  {
   "cell_type": "code",
   "execution_count": null,
   "id": "3d004582",
   "metadata": {
    "colab": {
     "base_uri": "https://localhost:8080/"
    },
    "id": "jWgIo5_bg_sK",
    "outputId": "27663388-d711-4e82-d902-cdb8c34e6edf"
   },
   "outputs": [],
   "source": [
    "from scipy.stats import pearsonr, spearmanr\n",
    "\n",
    "for i, (model, ap_values) in enumerate(zip(models, ap_data)):\n",
    "    ap_values = np.array(ap_values)\n",
    "\n",
    "    pearson_corr, pearson_p_value = pearsonr(area_values, ap_values)\n",
    "    spearman_corr, spearman_p_value = spearmanr(area_values, ap_values)\n",
    "\n",
    "    print(f\"{model}:\")\n",
    "    print(f\"  Pearson Correlation: {pearson_corr:.2f}, P-value: {pearson_p_value:.10f}\")\n",
    "    print(f\"  Spearman Correlation: {spearman_corr:.2f}, P-value: {spearman_p_value:.10f}\")\n",
    "    print(\"-\" * 50)\n"
   ]
  },
  {
   "cell_type": "code",
   "execution_count": null,
   "id": "a94ca6a1",
   "metadata": {
    "id": "pO9xUHWRpDSi"
   },
   "outputs": [],
   "source": []
  }
 ],
 "metadata": {
  "colab": {
   "provenance": [],
   "toc_visible": true
  },
  "kernelspec": {
   "display_name": "Python 3",
   "name": "python3"
  },
  "language_info": {
   "name": "python"
  }
 },
 "nbformat": 4,
 "nbformat_minor": 5
}
