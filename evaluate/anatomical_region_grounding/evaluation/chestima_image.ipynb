{
 "cells": [
  {
   "cell_type": "markdown",
   "id": "22ba8c69",
   "metadata": {
    "id": "Hqx4sKiG48OF"
   },
   "source": [
    "# Download JPG file"
   ]
  },
  {
   "cell_type": "code",
   "execution_count": null,
   "id": "e1af3e29",
   "metadata": {
    "id": "vaOK2xtYR-gb"
   },
   "outputs": [],
   "source": [
    "%mkdir first100"
   ]
  },
  {
   "cell_type": "code",
   "execution_count": null,
   "id": "fa02fe5b",
   "metadata": {
    "colab": {
     "base_uri": "https://localhost:8080/"
    },
    "id": "59LPgIMV5CMa",
    "outputId": "dce8bc6c-aa8c-4f4e-e58f-778e731771df"
   },
   "outputs": [],
   "source": [
    "!tar -xzvf first100.tar.gz -C /content/first100"
   ]
  },
  {
   "cell_type": "code",
   "execution_count": null,
   "id": "18252608",
   "metadata": {
    "colab": {
     "base_uri": "https://localhost:8080/"
    },
    "id": "OVMg3saOQc12",
    "outputId": "a80de9b4-94ba-4d48-d219-8fab7de093ef"
   },
   "outputs": [],
   "source": [
    "!unzip chest-imagenome-dataset-1.0.0.zip -d /content/"
   ]
  },
  {
   "cell_type": "code",
   "execution_count": null,
   "id": "ad1ab523",
   "metadata": {
    "colab": {
     "base_uri": "https://localhost:8080/"
    },
    "id": "_Ytst_KdQdNZ",
    "outputId": "6611c707-b1dc-491e-f7f4-99090bcb570f"
   },
   "outputs": [],
   "source": [
    "%cd /content/chest-imagenome-dataset-1.0.0/silver_dataset/"
   ]
  },
  {
   "cell_type": "code",
   "execution_count": null,
   "id": "58cc85f7",
   "metadata": {
    "colab": {
     "base_uri": "https://localhost:8080/"
    },
    "id": "4iXfU-NIQlAb",
    "outputId": "a2531400-3a50-43eb-8d18-522260721083"
   },
   "outputs": [],
   "source": [
    "!unzip scene_graph.zip"
   ]
  },
  {
   "cell_type": "code",
   "execution_count": null,
   "id": "b8385138",
   "metadata": {
    "colab": {
     "base_uri": "https://localhost:8080/"
    },
    "id": "cTDVJCKwQlzF",
    "outputId": "48c1a267-a940-4ba7-bb0c-1585bd35cfe2"
   },
   "outputs": [],
   "source": [
    "%cd /content"
   ]
  },
  {
   "cell_type": "code",
   "execution_count": null,
   "id": "45d2910d",
   "metadata": {
    "colab": {
     "base_uri": "https://localhost:8080/"
    },
    "id": "oWzzyeeY55YI",
    "outputId": "a0c518e9-1e17-41b6-9b26-500e43203595"
   },
   "outputs": [],
   "source": [
    "import json\n",
    "\n",
    "sample_json = '02aa804e-bde0afdd-112c0b34-7bc16630-4e384014_SceneGraph.json'\n",
    "with open(sample_json, 'r') as f:\n",
    "    data = json.load(f)\n",
    "data"
   ]
  },
  {
   "cell_type": "code",
   "execution_count": null,
   "id": "9620b7d8",
   "metadata": {
    "id": "r-HsoF9lT_wk"
   },
   "outputs": [],
   "source": [
    "import os\n",
    "import json\n",
    "import random\n",
    "from PIL import Image\n",
    "import matplotlib.pyplot as plt\n",
    "import matplotlib.patches as patches"
   ]
  },
  {
   "cell_type": "code",
   "execution_count": null,
   "id": "8b3e0548",
   "metadata": {
    "id": "M81Z_UjJXJFj"
   },
   "outputs": [],
   "source": [
    "image_folder = '/content/first100/'\n",
    "scene_graph_folder = '/content/chest-imagenome-dataset-1.0.0/silver_dataset/scene_graph/'"
   ]
  },
  {
   "cell_type": "markdown",
   "id": "c6388ce3",
   "metadata": {
    "id": "a82nZiM7FNYH"
   },
   "source": [
    "# Show the original image of Chest ImaGenome"
   ]
  },
  {
   "cell_type": "code",
   "execution_count": null,
   "id": "514dee28",
   "metadata": {
    "id": "1tf5bq3wXPxC"
   },
   "outputs": [],
   "source": [
    "def normalize_bbox(bbox, img_width, img_height):\n",
    "    \"\"\"\n",
    "    Normalize the bounding box\n",
    "    \"\"\"\n",
    "    x1_norm = bbox['original_x1'] / img_width\n",
    "    y1_norm = bbox['original_y1'] / img_height\n",
    "    x2_norm = bbox['original_x2'] / img_width\n",
    "    y2_norm = bbox['original_y2'] / img_height\n",
    "    return x1_norm, y1_norm, x2_norm, y2_norm\n"
   ]
  },
  {
   "cell_type": "code",
   "execution_count": null,
   "id": "16c4a456",
   "metadata": {
    "id": "jqDEAPG0XXg5"
   },
   "outputs": [],
   "source": [
    "def adjust_text_position(bbox, img_width, img_height):\n",
    "    \"\"\"\n",
    "    Adjust text position to avoid overlap and ensure it's inside the image.\n",
    "\n",
    "    Args:\n",
    "    - bbox (dict): Dictionary with normalized coordinates.\n",
    "    - img_width (int): Image width.\n",
    "    - img_height (int): Image height.\n",
    "\n",
    "    Returns:\n",
    "    - (x, y): Adjusted x, y coordinates for the text label.\n",
    "    \"\"\"\n",
    "    corners = [\n",
    "        (bbox['x1_norm'], bbox['y1_norm']),\n",
    "        (bbox['x2_norm'], bbox['y1_norm']),\n",
    "        (bbox['x2_norm'], bbox['y2_norm']),\n",
    "        (bbox['x1_norm'], bbox['y2_norm'])\n",
    "    ]\n",
    "    selected_corner = random.choice(corners)\n",
    "    x_text = selected_corner[0] * img_width\n",
    "    y_text = selected_corner[1] * img_height\n",
    "\n",
    "    x_offset = 5\n",
    "    y_offset = 5\n",
    "\n",
    "    x_text += x_offset\n",
    "    y_text += y_offset\n",
    "\n",
    "    if x_text > img_width - 100:\n",
    "        x_text = img_width - 100\n",
    "    if y_text > img_height - 50:\n",
    "        y_text = img_height - 50\n",
    "    if x_text < 0:\n",
    "        x_text = 0\n",
    "    if y_text < 0:\n",
    "        y_text = 0\n",
    "\n",
    "    return x_text, y_text"
   ]
  },
  {
   "cell_type": "code",
   "execution_count": null,
   "id": "26e7f6a6",
   "metadata": {
    "colab": {
     "base_uri": "https://localhost:8080/"
    },
    "id": "0b6FSdVJYvKk",
    "outputId": "95cc7e59-4e7e-42a6-f786-5c5dbab8d234"
   },
   "outputs": [],
   "source": [
    "%cd /content/"
   ]
  },
  {
   "cell_type": "code",
   "execution_count": null,
   "id": "7dc7ca2a",
   "metadata": {
    "id": "cbMp0GVYb599"
   },
   "outputs": [],
   "source": [
    "anatomies = [\n",
    "    \"abdomen\", \"aortic arch\", \"cardiac silhouette\", \"carina\", \"cavoatrial junction\",\n",
    "    \"descending aorta\", \"left apical zone\", \"left cardiac silhouette\", \"left cardiophrenic angle\",\n",
    "    \"left clavicle\", \"left costophrenic angle\", \"left hemidiaphragm\", \"left hilar structures\",\n",
    "    \"left lower lung zone\", \"left lung\", \"left mid lung zone\", \"left upper abdomen\",\n",
    "    \"left upper lung zone\", \"mediastinum\", \"right apical zone\", \"right atrium\",\n",
    "    \"right cardiac silhouette\", \"right cardiophrenic angle\", \"right clavicle\",\n",
    "    \"right costophrenic angle\", \"right hemidiaphragm\", \"right hilar structures\",\n",
    "    \"right lower lung zone\", \"right lung\", \"right mid lung zone\", \"right upper abdomen\",\n",
    "    \"right upper lung zone\", \"spine\", \"svc\", \"trachea\", \"upper mediastinum\"\n",
    "]\n",
    "\n",
    "def display_bboxes_for_identifier(unique_id, scene_graph_folder, image_folder, bbox_color='red'):\n",
    "    \"\"\"\n",
    "    Display bounding boxes on the image with numbers representing each anatomy.\n",
    "\n",
    "    Args:\n",
    "    - unique_id (str): Unique identifier of the image.\n",
    "    - scene_graph_folder (str): Folder where the metadata (JSON files) are stored.\n",
    "    - image_folder (str): Folder where the images (JPEG files) are stored.\n",
    "    - bbox_color (str): Color for the bounding boxes (default is 'red').\n",
    "    \"\"\"\n",
    "\n",
    "    json_file = f\"{unique_id}_SceneGraph.json\"\n",
    "    json_path = os.path.join(scene_graph_folder, json_file)\n",
    "\n",
    "    if not os.path.exists(json_path):\n",
    "        print(f\"JSON file not found for unique identifier: {unique_id}\")\n",
    "        return\n",
    "\n",
    "    image_path = None\n",
    "    for root, dirs, files in os.walk(image_folder):\n",
    "        for file in files:\n",
    "            if file.endswith(\".jpg\") and file.replace(\".jpg\", \"\") == unique_id:\n",
    "                image_path = os.path.join(root, file)\n",
    "                break\n",
    "\n",
    "    if image_path is None:\n",
    "        print(f\"No matching image found for unique identifier: {unique_id}\")\n",
    "        return\n",
    "\n",
    "    img = Image.open(image_path).convert(\"L\")\n",
    "    img_width, img_height = img.size\n",
    "\n",
    "    with open(json_path, 'r') as f:\n",
    "        data = json.load(f)\n",
    "\n",
    "    bbox_data = []\n",
    "    for obj in data['objects']:\n",
    "        x1_norm, y1_norm, x2_norm, y2_norm = normalize_bbox(obj, img_width, img_height)\n",
    "\n",
    "        anatomy_name = obj['bbox_name']\n",
    "        if anatomy_name in anatomies:\n",
    "            anatomy_index = anatomies.index(anatomy_name)\n",
    "        else:\n",
    "            anatomy_index = \"?\"\n",
    "\n",
    "        bbox_data.append({\n",
    "            'anatomy_index': anatomy_index,\n",
    "            'x1_norm': x1_norm,\n",
    "            'y1_norm': y1_norm,\n",
    "            'x2_norm': x2_norm,\n",
    "            'y2_norm': y2_norm\n",
    "        })\n",
    "\n",
    "\n",
    "    num_boxes_per_image = 4\n",
    "    fig, axs = plt.subplots(3, 3, figsize=(18, 18))\n",
    "    fig.tight_layout()\n",
    "\n",
    "    for i in range(0, len(bbox_data), num_boxes_per_image):\n",
    "        row = (i // num_boxes_per_image) // 3\n",
    "        col = (i // num_boxes_per_image) % 3\n",
    "        ax = axs[row, col]\n",
    "        ax.imshow(img, cmap='gray')\n",
    "        ax.set_axis_off()\n",
    "        for bbox in bbox_data[i:i + num_boxes_per_image]:\n",
    "            rect = patches.Rectangle((bbox['x1_norm'] * img_width, bbox['y1_norm'] * img_height),\n",
    "                                     (bbox['x2_norm'] - bbox['x1_norm']) * img_width,\n",
    "                                     (bbox['y2_norm'] - bbox['y1_norm']) * img_height,\n",
    "                                     linewidth=1, edgecolor=bbox_color, facecolor='none')\n",
    "            ax.add_patch(rect)\n",
    "\n",
    "            x_text = bbox['x1_norm'] * img_width\n",
    "            y_text = (bbox['y1_norm'] * img_height) - 10\n",
    "\n",
    "            if bbox['anatomy_index'] == 2:\n",
    "                x_text += 150\n",
    "                y_text -= 20\n",
    "\n",
    "            ax.text(x_text, y_text, str(bbox['anatomy_index']), color='white', fontsize=12,\n",
    "                    bbox=dict(facecolor=bbox_color, alpha=0.5))\n",
    "\n",
    "        if (i // num_boxes_per_image) == 8:\n",
    "            break\n",
    "\n",
    "    pdf_filename = f\"{unique_id}.pdf\"\n",
    "    plt.savefig(pdf_filename, format=\"pdf\")\n",
    "    plt.show()\n",
    "\n",
    "    print(f\"Figure saved as {pdf_filename}\")\n"
   ]
  },
  {
   "cell_type": "code",
   "execution_count": null,
   "id": "4d092ca9",
   "metadata": {
    "colab": {
     "base_uri": "https://localhost:8080/",
     "height": 35
    },
    "id": "h6MlusvgYqrb",
    "outputId": "60b65d2b-0176-4589-89ab-1ab38a975ba2"
   },
   "outputs": [],
   "source": [
    "%pwd"
   ]
  },
  {
   "cell_type": "code",
   "execution_count": null,
   "id": "a842e5e6",
   "metadata": {
    "colab": {
     "base_uri": "https://localhost:8080/",
     "height": 1000
    },
    "id": "dMIihluKYST6",
    "outputId": "97392596-3a9d-424e-9e53-9b80bcd726bb"
   },
   "outputs": [],
   "source": [
    "unique_identifier = '02aa804e-bde0afdd-112c0b34-7bc16630-4e384014'\n",
    "display_bboxes_for_identifier(unique_identifier, scene_graph_folder, image_folder, bbox_color='black')"
   ]
  },
  {
   "cell_type": "code",
   "execution_count": null,
   "id": "b2ce1ae0",
   "metadata": {
    "id": "6Bai0hyZReJz"
   },
   "outputs": [],
   "source": [
    "def display_bboxes_for_identifier(unique_id, scene_graph_folder, image_folder, bbox_color='red'):\n",
    "    \"\"\"\n",
    "    According to the unique identifier, match the image and metadata, and paint bounding boxes on the image.\n",
    "\n",
    "    Args:\n",
    "    - unique_id (str): Unique identifier of the image.\n",
    "    - scene_graph_folder (str): Folder where the metadata (JSON files) are stored.\n",
    "    - image_folder (str): Folder where the images (JPEG files) are stored.\n",
    "    - bbox_color (str): Color for the bounding boxes (default is 'red').\n",
    "    \"\"\"\n",
    "\n",
    "    json_file = f\"{unique_id}_SceneGraph.json\"\n",
    "    json_path = os.path.join(scene_graph_folder, json_file)\n",
    "\n",
    "    if not os.path.exists(json_path):\n",
    "        print(f\"JSON file not found for unique identifier: {unique_id}\")\n",
    "        return\n",
    "\n",
    "    image_path = None\n",
    "    for root, dirs, files in os.walk(image_folder):\n",
    "        for file in files:\n",
    "            if file.endswith(\".jpg\") and file.replace(\".jpg\", \"\") == unique_id:\n",
    "                image_path = os.path.join(root, file)\n",
    "                break\n",
    "\n",
    "    if image_path is None:\n",
    "        print(f\"No matching image found for unique identifier: {unique_id}\")\n",
    "        return\n",
    "\n",
    "    img = Image.open(image_path).convert(\"L\")\n",
    "    img_width, img_height = img.size\n",
    "\n",
    "    with open(json_path, 'r') as f:\n",
    "        data = json.load(f)\n",
    "\n",
    "    bbox_data = []\n",
    "    for obj in data['objects']:\n",
    "        x1_norm, y1_norm, x2_norm, y2_norm = normalize_bbox(obj, img_width, img_height)\n",
    "        bbox_data.append({\n",
    "            'bbox_name': obj['bbox_name'],\n",
    "            'x1_norm': x1_norm,\n",
    "            'y1_norm': y1_norm,\n",
    "            'x2_norm': x2_norm,\n",
    "            'y2_norm': y2_norm\n",
    "        })\n",
    "\n",
    "    num_boxes_per_image = 4\n",
    "    fig, axs = plt.subplots(3, 3, figsize=(18, 18))\n",
    "    fig.tight_layout()\n",
    "\n",
    "    for i in range(0, len(bbox_data), num_boxes_per_image):\n",
    "        row = (i // num_boxes_per_image) // 3\n",
    "        col = (i // num_boxes_per_image) % 3\n",
    "        ax = axs[row, col]\n",
    "        ax.imshow(img, cmap='gray')\n",
    "        ax.set_axis_off()\n",
    "        for bbox in bbox_data[i:i + num_boxes_per_image]:\n",
    "            print(bbox['bbox_name'])\n",
    "            rect = patches.Rectangle((bbox['x1_norm'] * img_width, bbox['y1_norm'] * img_height),\n",
    "                                     (bbox['x2_norm'] - bbox['x1_norm']) * img_width,\n",
    "                                     (bbox['y2_norm'] - bbox['y1_norm']) * img_height,\n",
    "                                     linewidth=1, edgecolor=bbox_color, facecolor='none')\n",
    "            ax.add_patch(rect)\n",
    "            x_text, y_text = adjust_text_position(bbox, img_width, img_height)\n",
    "\n",
    "            ax.text(x_text, y_text, bbox['bbox_name'], color='white', fontsize=8,\n",
    "                    bbox=dict(facecolor=bbox_color, alpha=0.5))\n",
    "\n",
    "        if (i // num_boxes_per_image) == 8:\n",
    "            break\n",
    "\n",
    "    plt.show()"
   ]
  },
  {
   "cell_type": "code",
   "execution_count": null,
   "id": "bf49e72e",
   "metadata": {
    "colab": {
     "base_uri": "https://localhost:8080/",
     "height": 1000
    },
    "id": "u0Nc29_dRjMc",
    "outputId": "462b4ddb-d0a1-42bb-8195-4396bfa188f8"
   },
   "outputs": [],
   "source": [
    "unique_identifier = '02aa804e-bde0afdd-112c0b34-7bc16630-4e384014'\n",
    "display_bboxes_for_identifier(unique_identifier, scene_graph_folder, image_folder, bbox_color='black')"
   ]
  },
  {
   "cell_type": "code",
   "execution_count": null,
   "id": "a34de34b",
   "metadata": {
    "colab": {
     "base_uri": "https://localhost:8080/",
     "height": 1000
    },
    "id": "3mauZ61mcSQY",
    "outputId": "e0ee4281-b381-48be-efb0-5a1db50d3dd9"
   },
   "outputs": [],
   "source": [
    "unique_identifier = '2a2277a9-b0ded155-c0de8eb9-c124d10e-82c5caab'\n",
    "display_bboxes_for_identifier(unique_identifier, scene_graph_folder, image_folder, bbox_color='black')"
   ]
  },
  {
   "cell_type": "code",
   "execution_count": null,
   "id": "806e2f67",
   "metadata": {
    "colab": {
     "base_uri": "https://localhost:8080/",
     "height": 1000
    },
    "id": "Qgj02k5pibBT",
    "outputId": "289dfecd-b187-4bc7-d7fd-b0a1ab538983"
   },
   "outputs": [],
   "source": [
    "unique_identifier = '6ad03ed1-97ee17ee-9cf8b320-f7011003-cd93b42d'\n",
    "display_bboxes_for_identifier(unique_identifier, scene_graph_folder, image_folder, bbox_color='black')"
   ]
  },
  {
   "cell_type": "code",
   "execution_count": null,
   "id": "73baa477",
   "metadata": {
    "colab": {
     "base_uri": "https://localhost:8080/",
     "height": 1000
    },
    "id": "hOXyZDTUOUL_",
    "outputId": "e20171a2-d8f0-47b8-becf-2273450fd064"
   },
   "outputs": [],
   "source": [
    "unique_identifier = 'd0b71acc-b5a62046-bbb5f6b8-7b173b85-65cdf738'\n",
    "display_bboxes_for_identifier(unique_identifier, scene_graph_folder, image_folder, bbox_color='black')"
   ]
  },
  {
   "cell_type": "code",
   "execution_count": null,
   "id": "60624d29",
   "metadata": {
    "id": "1wwqDCX6OaK6"
   },
   "outputs": [],
   "source": [
    "with open('/content/eval_all_batches_ep2_singleInstruction_formatted.json', 'r') as f:\n",
    "    data = json.load(f)"
   ]
  },
  {
   "cell_type": "code",
   "execution_count": null,
   "id": "8647c22c",
   "metadata": {
    "colab": {
     "base_uri": "https://localhost:8080/"
    },
    "id": "ySpScRpfGK4w",
    "outputId": "2c8cb89e-7ee0-4c6d-9f31-2823721352e5"
   },
   "outputs": [],
   "source": [
    "data[:6]"
   ]
  },
  {
   "cell_type": "markdown",
   "id": "4bdb2652",
   "metadata": {
    "id": "yBXtQqn4Kzz0"
   },
   "source": [
    "# Visualize the predictions and ground truth"
   ]
  },
  {
   "cell_type": "code",
   "execution_count": null,
   "id": "eeb2220d",
   "metadata": {
    "colab": {
     "base_uri": "https://localhost:8080/"
    },
    "id": "YyQbOu8xSBvd",
    "outputId": "4debba7b-e60f-4200-fa34-1782d728e8af"
   },
   "outputs": [],
   "source": [
    "!unzip /content/llava_visualization.zip -d /content/"
   ]
  },
  {
   "cell_type": "code",
   "execution_count": null,
   "id": "0e6a1697",
   "metadata": {
    "id": "4zbLvzuHHvam"
   },
   "outputs": [],
   "source": [
    "result = [\n",
    "    {\n",
    "        'image_path': '/content/llava_visualization/5e2975f2-50307bfd-505b04f0-7d213948-6089450c.jpg',\n",
    "        'prediction': [{'left lung':[0.56, 0.09, 0.9, 0.96]}],\n",
    "        'ground_truth': [{'left lung': [0.56, 0.12, 0.87, 0.95]}]\n",
    "    },\n",
    "    {\n",
    "        'image_path': '/content/llava_visualization/1cd8fc53-9c2a5c2a-cfb5af51-75828560-4df0989b.jpg',\n",
    "        'prediction': [{'carina':[0.47, 0.33, 0.52, 0.38]}],\n",
    "        'ground_truth': [{'carina': [0.48, 0.37, 0.5, 0.4]}]\n",
    "    },\n",
    "    {\n",
    "        'image_path': '/content/llava_visualization/2d3cab73-18a0452c-fec484bd-19e19c3f-bff3d526.jpg',\n",
    "        'prediction': [{'aortic arch':[0.5, 0.23, 0.58, 0.31], 'left clavicle':[0.54, 0.06, 0.93, 0.21]}],\n",
    "        'ground_truth': [{'aortic arch':[0.5, 0.29, 0.56, 0.34], 'left clavicle':[0.53, 0.09, 0.86, 0.24]}]\n",
    "    },\n",
    "    {\n",
    "        'image_path': '/content/llava_visualization/6e72579d-27568b2c-c937c698-178e017f-d96ba14e.jpg',\n",
    "        'prediction': [{'cardiac silhouette':[0.5, 0.23, 0.58, 0.31], 'upper mediastinum':[0.54, 0.06, 0.93, 0.21]}],\n",
    "        'ground_truth': [{'aortic arch':[0.37, 0.48, 0.75, 0.83], 'left clavicle':[0.39, 0.2, 0.58, 0.47]}]\n",
    "    },\n",
    "    {\n",
    "        'image_path': '/content/llava_visualization/a7b649f8-a9792071-ebc05c65-17bef53e-738c48bb.jpg',\n",
    "        'prediction': [{'left mid lung zone':[0.47, 0.25, 0.83, 0.4], 'left upper lung zone':[0.5, 0.04, 0.83, 0.25], 'right atrium':[0.25, 0.42, 0.42, 0.58]}],\n",
    "        'ground_truth': [{'left mid lung zone': [0.46, 0.27, 0.79, 0.42], 'left upper lung zone': [0.47, 0.08, 0.78, 0.27], 'right atrium': [0.31, 0.43, 0.44, 0.6]}]\n",
    "    },\n",
    "    {\n",
    "        'image_path': '/content/llava_visualization/1a9b3b82-402d9e19-445679da-a0accb94-ebc21d66.jpg',\n",
    "        'prediction': [{'right apical zone': [0.18, 0.17, 0.44, 0.31], 'left hemidiaphragm': [0.5, 0.75, 0.87, 0.86], 'right hilar structures': [0.28, 0.38, 0.44, 0.61]}],\n",
    "        'ground_truth': [{'right apical zone': [0.23, 0.25, 0.45, 0.38], 'left hemidiaphragm': [0.5, 0.72, 0.82, 0.82], 'right hilar structures': [0.31, 0.42, 0.44, 0.6]}]\n",
    "    },\n",
    "    {\n",
    "        'image_path': '/content/llava_visualization/7cf9a8eb-4cff16e3-b01b5d1a-7c127cd6-607372be.jpg',\n",
    "        'prediction': [{'right apical zone': [0.12, 0.08, 0.4, 0.25], 'left hemidiaphragm': [0.47, 0.58, 0.87, 0.69], 'cavoatrial junction': [0.29, 0.4, 0.46, 0.48], 'right clavicle': [0.0, 0.09, 0.38, 0.25], 'left upper abdomen': [0.47, 0.61, 0.87, 1.0]}],\n",
    "        'ground_truth': [{'right apical zone': [0.17, 0.09, 0.41, 0.25], 'left hemidiaphragm': [0.46, 0.53, 0.81, 0.69], 'cavoatrial junction': [0.33, 0.43, 0.46, 0.5], 'right clavicle': [0.0, 0.12, 0.35, 0.25], 'left upper abdomen': [0.46, 0.55, 0.81, 1.0]}]\n",
    "    },\n",
    "    {\n",
    "        'image_path': '/content/llava_visualization/4526ef7e-a5046703-0866561b-081b0533-53dae6d4.jpg',\n",
    "        'prediction': [{'svc': [0.39, 0.26, 0.48, 0.5], 'right cardiophrenic angle': [0.3, 0.72, 0.38, 0.85], 'spine': [0.42, 0.0, 0.58, 1.0], 'left clavicle':[0.54, 0.14, 0.99, 0.28]}],\n",
    "        'ground_truth': [{'svc': [0.39, 0.33, 0.47, 0.53], 'right cardiophrenic angle': [0.31, 0.69, 0.38, 0.8], 'spine': [0.42, 0.0, 0.54, 1.0], 'left clavicle': [0.53, 0.21, 0.88, 0.37]}]\n",
    "    },\n",
    " ]"
   ]
  },
  {
   "cell_type": "code",
   "execution_count": null,
   "id": "47d8e784",
   "metadata": {
    "id": "d7HXZstZVdwr"
   },
   "outputs": [],
   "source": [
    "import matplotlib.pyplot as plt\n",
    "from PIL import Image\n",
    "import matplotlib.patches as patches\n",
    "\n",
    "def visualize_results(result, images_per_row=4):\n",
    "    \"\"\"\n",
    "    Visualize predictions and ground truth for chest X-ray images.\n",
    "\n",
    "    Parameters:\n",
    "    result (list): List of dictionaries containing image paths, predictions, and ground truths.\n",
    "    images_per_row (int): Number of images to plot per row.\n",
    "    \"\"\"\n",
    "    num_images = len(result)\n",
    "    rows = (num_images // images_per_row) + (num_images % images_per_row > 0)\n",
    "\n",
    "    fig, axes = plt.subplots(rows, images_per_row, figsize=(20, 5 * rows))\n",
    "    axes = axes.flatten()\n",
    "\n",
    "    for idx, data in enumerate(result):\n",
    "        try:\n",
    "\n",
    "            img = Image.open(data['image_path']).convert('L')\n",
    "            ax = axes[idx]\n",
    "            ax.imshow(img, cmap='gray')\n",
    "            ax.axis('off')\n",
    "            ax.set_title(f\"Sample 0{idx + 1}\")\n",
    "\n",
    "            for gt in data['ground_truth']:\n",
    "                for label, bbox in gt.items():\n",
    "                    x_min, y_min, x_max, y_max = bbox\n",
    "                    rect = patches.Rectangle((x_min * img.width, y_min * img.height),\n",
    "                                             (x_max - x_min) * img.width, (y_max - y_min) * img.height,\n",
    "                                             linewidth=2, edgecolor='green', facecolor='none')\n",
    "                    ax.add_patch(rect)\n",
    "\n",
    "                    ax.text(x_min * img.width, y_max * img.height + 5, label, color='green', fontsize=10,\n",
    "                            bbox=dict(facecolor='white', alpha=0.7, edgecolor='none', pad=0.3))\n",
    "\n",
    "            for pred in data['prediction']:\n",
    "                for bbox in pred.values():\n",
    "                    x_min, y_min, x_max, y_max = bbox\n",
    "                    rect = patches.Rectangle((x_min * img.width, y_min * img.height),\n",
    "                                             (x_max - x_min) * img.width, (y_max - y_min) * img.height,\n",
    "                                             linewidth=2, edgecolor='red', facecolor='none')\n",
    "                    ax.add_patch(rect)\n",
    "        except Exception as e:\n",
    "            print(f\"Could not process image {idx + 1}: {e}\")\n",
    "\n",
    "    for i in range(len(result), len(axes)):\n",
    "        axes[i].axis('off')\n",
    "\n",
    "    plt.tight_layout()\n",
    "    plt.savefig('chest_imagenome_sample.pdf', format = 'pdf')\n",
    "    plt.show()\n"
   ]
  },
  {
   "cell_type": "code",
   "execution_count": null,
   "id": "686bd96f",
   "metadata": {
    "colab": {
     "base_uri": "https://localhost:8080/",
     "height": 336
    },
    "id": "2Zq4GE1MNzp3",
    "outputId": "25f98415-a94a-4215-fa95-00c36ecb0889"
   },
   "outputs": [],
   "source": [
    "visualize_results(result)"
   ]
  },
  {
   "cell_type": "code",
   "execution_count": null,
   "id": "15527b07",
   "metadata": {
    "id": "3sjPrIG9N0DV"
   },
   "outputs": [],
   "source": []
  }
 ],
 "metadata": {
  "colab": {
   "provenance": []
  },
  "kernelspec": {
   "display_name": "Python 3",
   "name": "python3"
  },
  "language_info": {
   "name": "python"
  }
 },
 "nbformat": 4,
 "nbformat_minor": 5
}
