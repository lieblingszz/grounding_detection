{
 "cells": [
  {
   "cell_type": "code",
   "execution_count": null,
   "id": "04fdb495",
   "metadata": {
    "id": "2dhp3K3Y47GI"
   },
   "outputs": [],
   "source": [
    "from sklearn.metrics import precision_recall_fscore_support\n",
    "import numpy as np\n",
    "import re\n",
    "from torchvision.ops import box_iou\n",
    "import torch\n",
    "import os\n",
    "import re\n",
    "from collections import OrderedDict\n",
    "import json\n",
    "from sklearn.metrics import precision_score, recall_score, f1_score\n",
    "from collections import defaultdict"
   ]
  },
  {
   "cell_type": "code",
   "execution_count": null,
   "id": "65379ed8",
   "metadata": {
    "id": "-0X85vTq6aBH"
   },
   "outputs": [],
   "source": [
    "anatomies = [\n",
    "    \"abdomen\", \"aortic arch\", \"cardiac silhouette\", \"carina\", \"cavoatrial junction\",\n",
    "    \"descending aorta\", \"left apical zone\", \"left cardiac silhouette\", \"left cardiophrenic angle\",\n",
    "    \"left clavicle\", \"left costophrenic angle\", \"left hemidiaphragm\", \"left hilar structures\",\n",
    "    \"left lower lung zone\", \"left lung\", \"left mid lung zone\", \"left upper abdomen\",\n",
    "    \"left upper lung zone\", \"mediastinum\", \"right apical zone\", \"right atrium\",\n",
    "    \"right cardiac silhouette\", \"right cardiophrenic angle\", \"right clavicle\",\n",
    "    \"right costophrenic angle\", \"right hemidiaphragm\", \"right hilar structures\",\n",
    "    \"right lower lung zone\", \"right lung\", \"right mid lung zone\", \"right upper abdomen\",\n",
    "    \"right upper lung zone\", \"spine\", \"svc\", \"trachea\", \"upper mediastinum\"\n",
    "]"
   ]
  },
  {
   "cell_type": "code",
   "execution_count": null,
   "id": "00cfe770",
   "metadata": {
    "id": "MtPk3osl5GFH"
   },
   "outputs": [],
   "source": [
    "def load_json(path):\n",
    "    with open(path, 'r') as f:\n",
    "        return json.load(f)"
   ]
  },
  {
   "cell_type": "code",
   "execution_count": null,
   "id": "efdc4a5d",
   "metadata": {
    "id": "mpiJmW_b5rvP"
   },
   "outputs": [],
   "source": [
    "ep1_multipleInstructions_formatted = load_json('/content/eval_all_batches_ep1_multipleInstructions_formatted.json')\n",
    "ep1_multipleInstructions_weighted_formatted = load_json('/content/eval_all_batches_ep1_multipleInstructions_weighted_formatted.json')\n",
    "ep1_singleInstruction_formatted = load_json('/content/eval_all_batches_ep1_singleInstruction_formatted.json')\n",
    "ep1_singleInstruction_weighted_formatted = load_json('/content/eval_all_batches_ep1_singleInstruction_weighted_formatted.json')\n",
    "ep2_singleInstruction_formatted = load_json('/content/eval_all_batches_ep2_singleInstruction_formatted.json')\n",
    "ep3_multipleInstructions_formatted = load_json('/content/eval_all_batches_ep3_multipleInstructions_formatted.json')\n",
    "ep3_singleInstruction_formatted = load_json('/content/eval_all_batches_ep3_singleInstruction_formatted.json')"
   ]
  },
  {
   "cell_type": "code",
   "execution_count": null,
   "id": "6a89b6c9",
   "metadata": {
    "id": "KQd-v0o76RSJ"
   },
   "outputs": [],
   "source": [
    "import re\n",
    "\n",
    "def extract_bboxes(text, bbx_dict):\n",
    "    \"\"\"\n",
    "    Extract predicted bounding boxes and return a dictionary in which the key is the anatomy\n",
    "    and the value is a tuple of lists containing multiple bounding boxes for that anatomy.\n",
    "    If the number of anatomies and bounding boxes do not match, or if the anatomies in the predictions\n",
    "    do not match those in bbx_dict, it will be counted as a mismatch.\n",
    "    Invalid bounding boxes (those with zero width or height) are filtered out.\n",
    "    \"\"\"\n",
    "    mismatch_count = 0\n",
    "    text = text.lower()\n",
    "\n",
    "    anatomy_regex = re.compile(r'\\b(' + '|'.join(map(re.escape, sorted(bbx_dict.keys(), key=len, reverse=True))) + r')\\b')\n",
    "    anatomy_matches = anatomy_regex.findall(text)\n",
    "\n",
    "    bbox_texts = re.findall(r\"\\[(.*?)\\]\", text)\n",
    "    bbox_matches = []\n",
    "\n",
    "    for bbox in bbox_texts:\n",
    "        try:\n",
    "            bbox_floats = list(map(float, bbox.split(',')))\n",
    "            if bbox_floats[2] > bbox_floats[0] and bbox_floats[3] > bbox_floats[1]:  # Ensure width and height are positive\n",
    "                bbox_matches.append(bbox_floats)\n",
    "        except ValueError as e:\n",
    "            print(f\"Error parsing bbox: {bbox}. Skipping it. Error: {e}\")\n",
    "            continue\n",
    "    if len(anatomy_matches) != len(bbox_matches):\n",
    "        print(\"Anatomy and bounding box count mismatch.\")\n",
    "        mismatch_count += 1\n",
    "        return {}, mismatch_count\n",
    "\n",
    "    if set(anatomy_matches) != set(bbx_dict.keys()):\n",
    "        print(\"Mismatch between predicted anatomies and ground truth anatomies.\")\n",
    "        mismatch_count += 1\n",
    "        return {}, mismatch_count\n",
    "\n",
    "    anatomy_to_bbox = {}\n",
    "    for anatomy, bbox in zip(anatomy_matches, bbox_matches):\n",
    "        if anatomy in anatomy_to_bbox:\n",
    "            anatomy_to_bbox[anatomy] = tuple(list(anatomy_to_bbox[anatomy]) + [bbox])\n",
    "        else:\n",
    "            anatomy_to_bbox[anatomy] = (bbox,)\n",
    "\n",
    "    return anatomy_to_bbox, mismatch_count\n"
   ]
  },
  {
   "cell_type": "code",
   "execution_count": null,
   "id": "19f12bf3",
   "metadata": {
    "id": "bJgWxZ7u52mE"
   },
   "outputs": [],
   "source": [
    "def calculate_mismatch_percentage(data):\n",
    "    total_images = 0\n",
    "    total_mismatches = 0\n",
    "\n",
    "    for json_obj in data:\n",
    "        text = json_obj['output']\n",
    "        bbx_dict = json_obj['bbx_dict']\n",
    "        _, mismatch_count = extract_bboxes(text, bbx_dict)\n",
    "        total_images += 1\n",
    "        total_mismatches += mismatch_count\n",
    "    mismatch_percentage = (total_mismatches / total_images) * 100 if total_images > 0 else 0\n",
    "\n",
    "    return mismatch_percentage, total_mismatches, total_images"
   ]
  },
  {
   "cell_type": "code",
   "execution_count": null,
   "id": "f813fd88",
   "metadata": {
    "colab": {
     "base_uri": "https://localhost:8080/"
    },
    "id": "d0B9S3rB6PzN",
    "outputId": "dc5ac9e5-ad16-43cf-d287-58c62b4021e5"
   },
   "outputs": [],
   "source": [
    "mismatch_percentage, total_mismatches, total_images = calculate_mismatch_percentage(ep1_multipleInstructions_formatted)\n",
    "print(f\"Mismatch Percentage: {mismatch_percentage}%\")\n",
    "print(f\"Total mismatches: {total_mismatches} out of {total_images} images\")\n"
   ]
  },
  {
   "cell_type": "code",
   "execution_count": null,
   "id": "7b3bb958",
   "metadata": {
    "colab": {
     "base_uri": "https://localhost:8080/"
    },
    "id": "JrqCtkOd6llJ",
    "outputId": "e6e36918-8c8a-4c9f-b353-83bd7624b842"
   },
   "outputs": [],
   "source": [
    "mismatch_percentage, total_mismatches, total_images = calculate_mismatch_percentage(ep1_multipleInstructions_weighted_formatted)\n",
    "print(f\"Mismatch Percentage: {mismatch_percentage}%\")\n",
    "print(f\"Total mismatches: {total_mismatches} out of {total_images} images\")"
   ]
  },
  {
   "cell_type": "code",
   "execution_count": null,
   "id": "e52799db",
   "metadata": {
    "colab": {
     "base_uri": "https://localhost:8080/"
    },
    "id": "LFNVWP636679",
    "outputId": "1699d45b-d006-4655-a3dd-36fe5c3d8a23"
   },
   "outputs": [],
   "source": [
    "mismatch_percentage, total_mismatches, total_images = calculate_mismatch_percentage(ep1_singleInstruction_formatted)\n",
    "print(f\"Mismatch Percentage: {mismatch_percentage}%\")\n",
    "print(f\"Total mismatches: {total_mismatches} out of {total_images} images\")"
   ]
  },
  {
   "cell_type": "code",
   "execution_count": null,
   "id": "53eff94d",
   "metadata": {
    "colab": {
     "base_uri": "https://localhost:8080/"
    },
    "id": "qzUiC1fptvuN",
    "outputId": "729c6034-f934-4d23-ba0d-48dcd903abaa"
   },
   "outputs": [],
   "source": [
    "mismatch_percentage, total_mismatches, total_images = calculate_mismatch_percentage(ep1_singleInstruction_weighted_formatted)\n",
    "print(f\"Mismatch Percentage: {mismatch_percentage}%\")\n",
    "print(f\"Total mismatches: {total_mismatches} out of {total_images} images\")"
   ]
  },
  {
   "cell_type": "code",
   "execution_count": null,
   "id": "8cfede88",
   "metadata": {
    "colab": {
     "base_uri": "https://localhost:8080/"
    },
    "id": "pPqTZa7Nt0_N",
    "outputId": "72e93f24-6157-490a-ac1c-f8aab6b4cd12"
   },
   "outputs": [],
   "source": [
    "mismatch_percentage, total_mismatches, total_images = calculate_mismatch_percentage(ep1_singleInstruction_weighted_formatted)\n",
    "print(f\"Mismatch Percentage: {mismatch_percentage}%\")\n",
    "print(f\"Total mismatches: {total_mismatches} out of {total_images} images\")"
   ]
  },
  {
   "cell_type": "code",
   "execution_count": null,
   "id": "6dc0d034",
   "metadata": {
    "colab": {
     "base_uri": "https://localhost:8080/"
    },
    "id": "R7f2i6KFuU0-",
    "outputId": "7ac1d65f-e735-4a12-9419-536200b6b8ec"
   },
   "outputs": [],
   "source": [
    "mismatch_percentage, total_mismatches, total_images = calculate_mismatch_percentage(ep2_singleInstruction_formatted)\n",
    "print(f\"Mismatch Percentage: {mismatch_percentage}%\")\n",
    "print(f\"Total mismatches: {total_mismatches} out of {total_images} images\")"
   ]
  },
  {
   "cell_type": "code",
   "execution_count": null,
   "id": "d2c490f6",
   "metadata": {
    "colab": {
     "base_uri": "https://localhost:8080/"
    },
    "id": "kbuLjgxkuZRc",
    "outputId": "aceaffa7-b17c-431f-b8b2-cd43d443c1a5"
   },
   "outputs": [],
   "source": [
    "mismatch_percentage, total_mismatches, total_images = calculate_mismatch_percentage(ep3_multipleInstructions_formatted)\n",
    "print(f\"Mismatch Percentage: {mismatch_percentage}%\")\n",
    "print(f\"Total mismatches: {total_mismatches} out of {total_images} images\")"
   ]
  },
  {
   "cell_type": "code",
   "execution_count": null,
   "id": "c5f3c9e7",
   "metadata": {
    "colab": {
     "base_uri": "https://localhost:8080/"
    },
    "id": "5p7Wl7yuudR9",
    "outputId": "8650684f-add3-4d07-9491-78ac57efc190"
   },
   "outputs": [],
   "source": [
    "mismatch_percentage, total_mismatches, total_images = calculate_mismatch_percentage(ep3_singleInstruction_formatted)\n",
    "print(f\"Mismatch Percentage: {mismatch_percentage}%\")\n",
    "print(f\"Total mismatches: {total_mismatches} out of {total_images} images\")"
   ]
  },
  {
   "cell_type": "code",
   "execution_count": null,
   "id": "c6120a7e",
   "metadata": {
    "id": "nB9jktD_uheX"
   },
   "outputs": [],
   "source": []
  }
 ],
 "metadata": {
  "colab": {
   "provenance": []
  },
  "kernelspec": {
   "display_name": "Python 3",
   "name": "python3"
  },
  "language_info": {
   "name": "python"
  }
 },
 "nbformat": 4,
 "nbformat_minor": 5
}
