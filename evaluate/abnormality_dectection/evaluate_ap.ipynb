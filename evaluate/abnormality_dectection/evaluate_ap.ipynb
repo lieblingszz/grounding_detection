{
 "cells": [
  {
   "cell_type": "markdown",
   "id": "f1dd9b48",
   "metadata": {
    "id": "EJD_OuKAdMgp"
   },
   "source": [
    "## Download files and images\n"
   ]
  },
  {
   "cell_type": "code",
   "execution_count": null,
   "id": "96cbbe8a",
   "metadata": {
    "colab": {
     "base_uri": "https://localhost:8080/"
    },
    "id": "plj_sSZGdmck",
    "outputId": "2c92e2a4-4399-49f4-e9cb-b01b27619724"
   },
   "outputs": [],
   "source": [
    "!unzip /content/images_gpt4_evaluation_vindr.zip -d /content/images_validation_vindr"
   ]
  },
  {
   "cell_type": "code",
   "execution_count": null,
   "id": "174f282d",
   "metadata": {
    "colab": {
     "base_uri": "https://localhost:8080/"
    },
    "id": "ENnexY2qqwnn",
    "outputId": "4a17126b-f65a-4e56-ad2c-feb6dbdcfcd5"
   },
   "outputs": [],
   "source": [
    "!pip install torchmetrics"
   ]
  },
  {
   "cell_type": "code",
   "execution_count": null,
   "id": "045d3068",
   "metadata": {
    "id": "Iy-_LIXJeaLZ"
   },
   "outputs": [],
   "source": [
    "import json"
   ]
  },
  {
   "cell_type": "code",
   "execution_count": null,
   "id": "2b34d47f",
   "metadata": {
    "id": "COR9JN3beLJC"
   },
   "outputs": [],
   "source": [
    "llava_result = '/content/eval_all_batches_vindr_formatted.json'"
   ]
  },
  {
   "cell_type": "code",
   "execution_count": null,
   "id": "89ed6daf",
   "metadata": {
    "id": "sGEEDTisdxi1"
   },
   "outputs": [],
   "source": [
    "with open(llava_result, 'r') as f:\n",
    "  data = json.load(f)"
   ]
  },
  {
   "cell_type": "code",
   "execution_count": null,
   "id": "d0e4a628",
   "metadata": {
    "id": "mIB6cEwjeKdi"
   },
   "outputs": [],
   "source": [
    "# data[0]"
   ]
  },
  {
   "cell_type": "code",
   "execution_count": null,
   "id": "a74b1a5d",
   "metadata": {
    "id": "6UPHi7b2ecaV"
   },
   "outputs": [],
   "source": [
    "import json\n",
    "import os\n",
    "\n",
    "def extract_unique_labels(file):\n",
    "    \"\"\"\n",
    "    Extract unique labels from all JSON files in the given folder.\n",
    "\n",
    "    Args:\n",
    "        json_folder (str): Path to the folder containing JSON files.\n",
    "\n",
    "    Returns:\n",
    "        list: A sorted list of unique labels across all JSON files.\n",
    "    \"\"\"\n",
    "    unique_labels = set()\n",
    "\n",
    "    with open(file, \"r\") as f:\n",
    "        data = json.load(f)\n",
    "        for record in data:\n",
    "            if \"labels\" in record:\n",
    "                unique_labels.update(record[\"labels\"])\n",
    "    return sorted(unique_labels)"
   ]
  },
  {
   "cell_type": "code",
   "execution_count": null,
   "id": "22529ef4",
   "metadata": {
    "id": "fBI5Lvy9kd9n"
   },
   "outputs": [],
   "source": [
    "json_file = \"/content/eval_all_batches_vindr_formatted.json\"\n",
    "abnormality_list = extract_unique_labels(json_file)"
   ]
  },
  {
   "cell_type": "code",
   "execution_count": null,
   "id": "8c6122a1",
   "metadata": {
    "colab": {
     "base_uri": "https://localhost:8080/"
    },
    "id": "zd-PGnYXk5ml",
    "outputId": "87551a67-252b-4642-892f-9b839864e6d6"
   },
   "outputs": [],
   "source": [
    "len(abnormality_list)"
   ]
  },
  {
   "cell_type": "code",
   "execution_count": null,
   "id": "069c424c",
   "metadata": {
    "id": "WyGRFEKLuOJb"
   },
   "outputs": [],
   "source": [
    "abnormality_list = [i.lower() for i in abnormality_list]"
   ]
  },
  {
   "cell_type": "code",
   "execution_count": null,
   "id": "e6cf7ff8",
   "metadata": {
    "colab": {
     "base_uri": "https://localhost:8080/"
    },
    "id": "3mmnCLVzud5V",
    "outputId": "981775e1-14f0-4134-e831-de4d99fbd47e"
   },
   "outputs": [],
   "source": [
    "abnormality_list"
   ]
  },
  {
   "cell_type": "markdown",
   "id": "6a9e4fef",
   "metadata": {
    "id": "IQDcEgEqv04s"
   },
   "source": [
    "## Calculate mAP and IOU"
   ]
  },
  {
   "cell_type": "code",
   "execution_count": null,
   "id": "172e109f",
   "metadata": {
    "id": "PP3UnQ-btkMZ"
   },
   "outputs": [],
   "source": [
    "from sklearn.metrics import precision_recall_fscore_support\n",
    "import numpy as np\n",
    "import re\n",
    "from torchvision.ops import box_iou\n",
    "import torch\n",
    "import os\n",
    "import re\n",
    "from collections import OrderedDict\n",
    "import json\n",
    "from sklearn.metrics import precision_score, recall_score, f1_score\n",
    "from collections import defaultdict"
   ]
  },
  {
   "cell_type": "code",
   "execution_count": null,
   "id": "06b4b04a",
   "metadata": {
    "id": "VYfJwhEL63xM"
   },
   "outputs": [],
   "source": [
    "def calculate_iou(box1, box2):\n",
    "    \"\"\"Calculate IoU between two bounding boxes.\"\"\"\n",
    "    x1 = max(box1[0], box2[0])\n",
    "    y1 = max(box1[1], box2[1])\n",
    "    x2 = min(box1[2], box2[2])\n",
    "    y2 = min(box1[3], box2[3])\n",
    "\n",
    "    intersection = max(0, x2 - x1) * max(0, y2 - y1)\n",
    "    area1 = (box1[2] - box1[0]) * (box1[3] - box1[1])\n",
    "    area2 = (box2[2] - box2[0]) * (box2[3] - box2[1])\n",
    "    union = area1 + area2 - intersection\n",
    "\n",
    "    return intersection / union if union > 0 else 0.0\n",
    "\n",
    "# Extract bounding boxes from output\n",
    "def extract_bboxes(output, abnormality_list):\n",
    "    \"\"\"\n",
    "    Extract abnormalities and their bounding boxes from the `output` field.\n",
    "\n",
    "    Args:\n",
    "        output (str): Text output containing abnormalities and bounding boxes.\n",
    "        abnormality_list (list): List of valid abnormalities to match.\n",
    "\n",
    "    Returns:\n",
    "        dict: Dictionary mapping abnormalities to predicted bounding boxes.\n",
    "    \"\"\"\n",
    "    anatomy_to_bbox = {}\n",
    "    pattern = rf\"({'|'.join(map(re.escape, abnormality_list))}).*?\\[([\\d\\.,\\s]+)\\]\"\n",
    "    matches = re.findall(pattern, output, flags=re.IGNORECASE)\n",
    "\n",
    "    for abnormality, bbox_coords in matches:\n",
    "        bbox = list(map(float, bbox_coords.split(',')))\n",
    "        anatomy_to_bbox[abnormality.lower()] = bbox\n",
    "    return anatomy_to_bbox\n",
    "\n",
    "def calculate_metrics_for_image(predictions, ground_truth, iou_threshold=0.5):\n",
    "    \"\"\"\n",
    "    Calculate TP, FP, FN, and IoUs for a single image.\n",
    "    Tracks IoUs for all matched bounding boxes (TP + FP).\n",
    "\n",
    "    Args:\n",
    "        predictions (dict): Predicted abnormalities and bounding boxes.\n",
    "        ground_truth (dict): Ground truth abnormalities and bounding boxes.\n",
    "        iou_threshold (float): IoU threshold for determining TP.\n",
    "\n",
    "    Returns:\n",
    "        dict: Per-class metrics including TP, FP, FN, and IoUs.\n",
    "        list: List of IoUs for all matched bounding boxes (TP + FP).\n",
    "    \"\"\"\n",
    "    metrics = {}\n",
    "    matched_ious = []\n",
    "\n",
    "\n",
    "    predictions = {k.lower(): v for k, v in predictions.items()}\n",
    "    ground_truth = {k.lower(): v for k, v in ground_truth.items()}\n",
    "\n",
    "    matched_gt = set()\n",
    "\n",
    "    for pred_label, pred_bbox in predictions.items():\n",
    "        if pred_label in ground_truth:\n",
    "            gt_bbox = ground_truth[pred_label]\n",
    "            iou = calculate_iou(pred_bbox, gt_bbox)\n",
    "\n",
    "\n",
    "            matched_ious.append(iou)\n",
    "\n",
    "            if iou >= iou_threshold:\n",
    "                metrics.setdefault(pred_label, {\"TP\": 0, \"FP\": 0, \"FN\": 0, \"IoU\": []})\n",
    "                metrics[pred_label][\"TP\"] += 1\n",
    "                metrics[pred_label][\"IoU\"].append(iou)\n",
    "                matched_gt.add(pred_label)\n",
    "            else:\n",
    "                metrics.setdefault(pred_label, {\"TP\": 0, \"FP\": 0, \"FN\": 0, \"IoU\": []})\n",
    "                metrics[pred_label][\"FP\"] += 1\n",
    "                metrics[pred_label][\"IoU\"].append(iou)\n",
    "        else:\n",
    "            metrics.setdefault(pred_label, {\"TP\": 0, \"FP\": 0, \"FN\": 0, \"IoU\": []})\n",
    "            metrics[pred_label][\"FP\"] += 1\n",
    "\n",
    "    for gt_label in ground_truth.keys():\n",
    "        if gt_label not in matched_gt:\n",
    "            metrics.setdefault(gt_label, {\"TP\": 0, \"FP\": 0, \"FN\": 0, \"IoU\": []})\n",
    "            metrics[gt_label][\"FN\"] += 1\n",
    "\n",
    "    return metrics, matched_ious\n",
    "\n",
    "\n",
    "def calculate_global_metrics(data, abnormality_list, iou_threshold=0.5):\n",
    "    global_metrics = {}\n",
    "    total_tp, total_fp, total_fn = 0, 0, 0\n",
    "    total_ious = []\n",
    "    per_class_metrics = defaultdict(lambda: {\"TP\": 0, \"FP\": 0, \"FN\": 0, \"IoU\": []})\n",
    "\n",
    "    for item in data:\n",
    "\n",
    "        predictions = extract_bboxes(item[\"output\"], abnormality_list)\n",
    "        # print('predictions:',predictions)\n",
    "\n",
    "\n",
    "        ground_truth = {label.lower(): box for label, box in zip(item[\"labels\"], item[\"boxes\"])}\n",
    "        # print('ground_truth:',ground_truth)\n",
    "\n",
    "        image_metrics, matched_ious = calculate_metrics_for_image(predictions, ground_truth, iou_threshold)\n",
    "\n",
    "        total_ious.extend(matched_ious)\n",
    "\n",
    "        for anatomy, metrics in image_metrics.items():\n",
    "            per_class_metrics[anatomy][\"TP\"] += metrics[\"TP\"]\n",
    "            per_class_metrics[anatomy][\"FP\"] += metrics[\"FP\"]\n",
    "            per_class_metrics[anatomy][\"FN\"] += metrics[\"FN\"]\n",
    "            per_class_metrics[anatomy][\"IoU\"].extend(metrics[\"IoU\"])\n",
    "\n",
    "            total_tp += metrics[\"TP\"]\n",
    "            total_fp += metrics[\"FP\"]\n",
    "            total_fn += metrics[\"FN\"]\n",
    "\n",
    "    mAP = 0\n",
    "    for anatomy, metrics in per_class_metrics.items():\n",
    "        tp, fp, fn = metrics[\"TP\"], metrics[\"FP\"], metrics[\"FN\"]\n",
    "        precision = tp / (tp + fp) if (tp + fp) > 0 else 0\n",
    "        recall = tp / (tp + fn) if (tp + fn) > 0 else 0\n",
    "        average_iou = sum(metrics[\"IoU\"]) / len(metrics[\"IoU\"]) if metrics[\"IoU\"] else 0\n",
    "\n",
    "        mAP += precision\n",
    "        per_class_metrics[anatomy][\"AP\"] = precision\n",
    "        per_class_metrics[anatomy][\"AR\"] = recall\n",
    "        per_class_metrics[anatomy][\"Average IoU\"] = average_iou\n",
    "\n",
    "    mAP /= len(per_class_metrics) if per_class_metrics else 0\n",
    "    mAR = total_tp / (total_tp + total_fn) if (total_tp + total_fn) > 0 else 0\n",
    "    mean_iou = sum(total_ious) / len(total_ious) if total_ious else 0\n",
    "\n",
    "    return {\n",
    "        \"mAP\": mAP,\n",
    "        \"mAR\": mAR,\n",
    "        \"Mean IoU\": mean_iou,\n",
    "        \"Per-Class Metrics\": per_class_metrics,\n",
    "    }\n",
    "\n",
    "def process_json_file(json_file_path, abnormality_list, iou_threshold=0.5):\n",
    "    \"\"\"\n",
    "    Process a JSON file and compute metrics.\n",
    "\n",
    "    Args:\n",
    "        json_file_path (str): Path to the JSON file.\n",
    "        abnormality_list (list): List of valid abnormalities.\n",
    "        iou_threshold (float): IoU threshold for determining matches.\n",
    "\n",
    "    Returns:\n",
    "        dict: Metrics for the entire dataset.\n",
    "    \"\"\"\n",
    "    with open(json_file_path, \"r\") as f:\n",
    "        data = json.load(f)\n",
    "\n",
    "    return calculate_global_metrics(data, abnormality_list, iou_threshold)\n",
    "json_file_path = \"/content/eval_all_batches_vindr_formatted.json\"\n",
    "\n",
    "results = process_json_file(json_file_path, abnormality_list)\n",
    "\n"
   ]
  },
  {
   "cell_type": "code",
   "execution_count": null,
   "id": "0506904d",
   "metadata": {
    "colab": {
     "base_uri": "https://localhost:8080/"
    },
    "id": "pFQEP5GZ6761",
    "outputId": "a7eac419-ddd2-4fa4-852d-a4ecf355cf93"
   },
   "outputs": [],
   "source": [
    "results"
   ]
  },
  {
   "cell_type": "markdown",
   "id": "28adc423",
   "metadata": {
    "id": "pIvhYzsqv5uD"
   },
   "source": [
    "## Visualize the output"
   ]
  },
  {
   "cell_type": "code",
   "execution_count": null,
   "id": "5b2bef75",
   "metadata": {
    "colab": {
     "base_uri": "https://localhost:8080/"
    },
    "id": "8WmwPIiHv7un",
    "outputId": "ffe90488-c60e-41cd-9dc6-677637c207c1"
   },
   "outputs": [],
   "source": [
    "data[0]\n"
   ]
  },
  {
   "cell_type": "code",
   "execution_count": null,
   "id": "33d11c99",
   "metadata": {
    "id": "bGl57ja094XS"
   },
   "outputs": [],
   "source": [
    "def index_image(image_path):\n",
    "  for i in data:\n",
    "    if i['img_path'] == image_path:\n",
    "      return i"
   ]
  },
  {
   "cell_type": "code",
   "execution_count": null,
   "id": "a2fa8c7d",
   "metadata": {
    "colab": {
     "base_uri": "https://localhost:8080/"
    },
    "id": "j7FIsurY_T4l",
    "outputId": "171866d1-3693-4589-ca6d-a0be26155dee"
   },
   "outputs": [],
   "source": [
    "image = index_image('/cluster/dataset/medinfmk/ARGON/VinDr-CXR/test_jpg/5280b2f1ea5c084e2bd8f2fe9447ab84.jpg')\n",
    "image"
   ]
  },
  {
   "cell_type": "code",
   "execution_count": null,
   "id": "f6c9e66b",
   "metadata": {
    "colab": {
     "base_uri": "https://localhost:8080/"
    },
    "id": "lysm_vqQ_qye",
    "outputId": "903c7443-cefb-42c2-8ff8-bc72b253ba58"
   },
   "outputs": [],
   "source": [
    "image = index_image('/cluster/dataset/medinfmk/ARGON/VinDr-CXR/test_jpg/1ca5675a7a3042ccb0334a42d14d145f.jpg')\n",
    "image"
   ]
  },
  {
   "cell_type": "code",
   "execution_count": null,
   "id": "a01bda69",
   "metadata": {
    "colab": {
     "base_uri": "https://localhost:8080/"
    },
    "id": "GNEAdoyj_ubG",
    "outputId": "507b7636-f31b-400b-fadf-21a7d94d81f6"
   },
   "outputs": [],
   "source": [
    "image = index_image('/cluster/dataset/medinfmk/ARGON/VinDr-CXR/test_jpg/7a74f4e463b72f018838f26cf7aabdf2.jpg')\n",
    "image"
   ]
  },
  {
   "cell_type": "code",
   "execution_count": null,
   "id": "7cf784f5",
   "metadata": {
    "colab": {
     "base_uri": "https://localhost:8080/"
    },
    "id": "M1lL2tPW_1CW",
    "outputId": "e2065795-57ae-4bfb-decf-0b284af86b34"
   },
   "outputs": [],
   "source": [
    "image = index_image('/cluster/dataset/medinfmk/ARGON/VinDr-CXR/test_jpg/552e53af89d7ae4c482cb935ac1542b7.jpg')\n",
    "image"
   ]
  },
  {
   "cell_type": "code",
   "execution_count": null,
   "id": "6dcdf3e0",
   "metadata": {
    "colab": {
     "base_uri": "https://localhost:8080/"
    },
    "id": "lx5eef5y_6sn",
    "outputId": "237262ff-4c2c-488e-d797-498dc4fe212f"
   },
   "outputs": [],
   "source": [
    "image = index_image('/cluster/dataset/medinfmk/ARGON/VinDr-CXR/test_jpg/b8756da75ca0ff37e9124e4480fa5c51.jpg')\n",
    "image"
   ]
  },
  {
   "cell_type": "code",
   "execution_count": null,
   "id": "ec28ea12",
   "metadata": {
    "colab": {
     "base_uri": "https://localhost:8080/"
    },
    "id": "EM6aNvaSAAWR",
    "outputId": "17de092c-9839-42bf-cd58-d9f14a8f3bb2"
   },
   "outputs": [],
   "source": [
    "image = index_image('/cluster/dataset/medinfmk/ARGON/VinDr-CXR/test_jpg/f5de7e513d2c4085e8b7fd6b5e5db57a.jpg')\n",
    "image"
   ]
  },
  {
   "cell_type": "code",
   "execution_count": null,
   "id": "e27c4092",
   "metadata": {
    "id": "yjHwefhIwEDf"
   },
   "outputs": [],
   "source": [
    "7# pleural thickening\n",
    "pleural_thickening = {'image_path': '/content/images_validation_vindr/5280b2f1ea5c084e2bd8f2fe9447ab84.jpg', 'predictions': [0.22, 0.14, 0.36, 0.18], 'ground_truth': [0.222, 0.109, 0.317, 0.207]}\n",
    "no_finding = {'image_path': '/content/images_validation_vindr/1ca5675a7a3042ccb0334a42d14d145f.jpg', 'predictions': [0, 0, 0, 0], 'ground_truth': [0, 0, 0, 0]}\n",
    "aortic_enlargement = {'image_path': '/content/images_validation_vindr/7a74f4e463b72f018838f26cf7aabdf2.jpg', 'predictions': [0.48, 0.22, 0.6, 0.36], 'ground_truth': [0.34, 0.59, 0.76, 0.74]}\n",
    "pulmonary_fibrosis = {'image_path': '/content/images_validation_vindr/552e53af89d7ae4c482cb935ac1542b7.jpg', 'predictions': [0.14, 0.3, 0.32, 0.52], 'ground_truth': [0.105, 0.225, 0.278, 0.454]}\n",
    "cardiomegaly = {'image_path': '/content/images_validation_vindr/b8756da75ca0ff37e9124e4480fa5c51.jpg', 'predictions': [0.42, 0.48, 0.76, 0.61], 'ground_truth': [0.347, 0.534, 0.756, 0.733]}\n",
    "lung_capacity = {'image_path': '/content/images_validation_vindr/f5de7e513d2c4085e8b7fd6b5e5db57a.jpg', 'predictions': [0, 0, 0, 0], 'ground_truth': [0.111, 0.501, 0.17, 0.568]},"
   ]
  },
  {
   "cell_type": "code",
   "execution_count": null,
   "id": "f77533c8",
   "metadata": {
    "id": "UpjagQnLB34Z"
   },
   "outputs": [],
   "source": [
    "{'output': ' The analysis reveals a pleural thickening located at the coordinates [0.14, 0.79, 0.18, 0.84]; a pleural effusion located at the coordinates [0.14, 0.79, 0.18, 0.84]; a lung opacity located at the coordinates [0.14, 0.3, 0.32, 0.52]; a pulmonary fibrosis located at the coordinates [0.14, 0.3, 0.32, 0.52].',\n",
    " 'instr': 'Are there identifiable abnormalities on this Chest X-ray? If so, where are they located?',\n",
    " 'answer': 'Notably, I can identify a pleural thickening located at the coordinates [0.11, 0.24, 0.27, 0.29] and [0.43, 0.2, 0.58, 0.3]; a pulmonary fibrosis located at the coordinates [0.1, 0.23, 0.28, 0.45] and [0.41, 0.2, 0.58, 0.45].',\n",
    " 'img_path': '/cluster/dataset/medinfmk/ARGON/VinDr-CXR/test_jpg/552e53af89d7ae4c482cb935ac1542b7.jpg',\n",
    " 'img': '/cluster/dataset/medinfmk/ARGON/VinDr-CXR/test_jpg/552e53af89d7ae4c482cb935ac1542b7.jpg',\n",
    " 'labels': ['Pleural thickening',\n",
    "  'Pleural thickening',\n",
    "  'Pulmonary fibrosis',\n",
    "  'Pulmonary fibrosis'],\n",
    " 'boxes': [[0.112, 0.241, 0.269, 0.292],\n",
    "  [0.429, 0.203, 0.576, 0.297],\n",
    "  [0.105, 0.225, 0.278, 0.454],\n",
    "  [0.41, 0.198, 0.576, 0.451]]}"
   ]
  },
  {
   "cell_type": "code",
   "execution_count": null,
   "id": "1070d584",
   "metadata": {
    "id": "AwKPK24h5VkP"
   },
   "outputs": [],
   "source": [
    "import matplotlib.pyplot as plt\n",
    "import matplotlib.patches as patches\n",
    "from PIL import Image\n",
    "\n",
    "sample = {\n",
    "    \"Sample_01\": {\n",
    "        \"image_path\": \"/content/images_validation_vindr/5280b2f1ea5c084e2bd8f2fe9447ab84.jpg\",\n",
    "        \"predictions\": {\n",
    "            \"labels\": [\"Pleural thickening\", \"Pleural thickening\", \"Aortic enlargement\", \"Lung opacity\", \"Pulmonary fibrosis\"],\n",
    "            \"boxes\": [[0.22, 0.14, 0.36, 0.18], [0.5, 0.14, 0.61, 0.17], [0.41, 0.26, 0.5, 0.38], [0.22, 0.2, 0.36, 0.41], [0.22, 0.2, 0.36, 0.41]],\n",
    "        },\n",
    "        \"ground_truth\": {\n",
    "            \"labels\": [\"Pulmonary fibrosis\", \"Pulmonary fibrosis\", \"Atelectasis\", \"Pleural thickening\", \"Pleural thickening\", \"Pulmonary fibrosis\"],\n",
    "            \"boxes\": [[0.22, 0.316, 0.276, 0.382], [0.26, 0.193, 0.343, 0.305], [0.247, 0.109, 0.4, 0.313], [0.222, 0.109, 0.317, 0.207], [0.514, 0.101, 0.627, 0.154], [0.508, 0.141, 0.595, 0.293]],\n",
    "        },\n",
    "    },\n",
    "    \"Sample_02\": {\n",
    "        \"image_path\": \"/content/images_validation_vindr/1ca5675a7a3042ccb0334a42d14d145f.jpg\",\n",
    "        \"predictions\": {\n",
    "            \"labels\": [],\n",
    "            \"boxes\": [],\n",
    "        },\n",
    "        \"ground_truth\": {\n",
    "            \"labels\": [],\n",
    "            \"boxes\": [],\n",
    "        },\n",
    "    },\n",
    "    \"Sample_03\": {\n",
    "        \"image_path\": \"/content/images_validation_vindr/7a74f4e463b72f018838f26cf7aabdf2.jpg\",\n",
    "        \"predictions\": {\n",
    "            \"labels\": [\"Aortic enlargement\", \"Cardiomegaly\"],\n",
    "            \"boxes\": [[0.48, 0.22, 0.6, 0.36], [0.34, 0.59, 0.76, 0.74]],\n",
    "        },\n",
    "        \"ground_truth\": {\n",
    "            \"labels\": [\"Aortic enlargement\", \"Nodule/Mass\"],\n",
    "            \"boxes\": [[0.34, 0.59, 0.76, 0.74], [0.103, 0.588, 0.13, 0.626]],\n",
    "        },\n",
    "    },\n",
    "    \"Sample_04\": {\n",
    "        \"image_path\": \"/content/images_validation_vindr/552e53af89d7ae4c482cb935ac1542b7.jpg\",\n",
    "        \"predictions\": {\n",
    "            \"labels\": [\"Pleural thickening\", \"Pleural effusion\", \"Lung opacity\", \"Pulmonary fibrosis\"],\n",
    "            \"boxes\": [[0.14, 0.79, 0.18, 0.84], [0.14, 0.79, 0.18, 0.84], [0.14, 0.3, 0.32, 0.52], [0.14, 0.3, 0.32, 0.52]],\n",
    "        },\n",
    "        \"ground_truth\": {\n",
    "            \"labels\": [\"Cardiomegaly\", \"Aortic enlargement\", \"ILD\", \"Lung Opacity\"],\n",
    "            \"boxes\": [[0.23, 0.55, 0.608, 0.775], [0.356, 0.249, 0.491, 0.448], [0.091, 0.275, 0.252, 0.655], [0.111, 0.501, 0.17, 0.568]],\n",
    "        },\n",
    "    },\n",
    "    \"Sample_05\": {\n",
    "        \"image_path\": \"/content/images_validation_vindr/b8756da75ca0ff37e9124e4480fa5c51.jpg\",\n",
    "        \"predictions\": {\n",
    "            \"labels\": [\"Aortic enlargement\", \"Aortic enlargement\"],\n",
    "            \"boxes\": [[0.42, 0.48, 0.76, 0.61], [0.54, 0.28, 0.64, 0.39]],\n",
    "        },\n",
    "        \"ground_truth\": {\n",
    "            \"labels\": [\"Cardiomegaly\", \"Aortic enlargement\", \"Calcification\", \"Pleural effusion\", \"ILD\", \"ILD\"],\n",
    "            \"boxes\": [[0.347, 0.534, 0.756, 0.733], [0.465, 0.314, 0.652, 0.512], [0.552, 0.317, 0.632, 0.413], [0.172, 0.646, 0.201, 0.695], [0.236, 0.429, 0.41, 0.632], [0.374, 0.229, 0.465, 0.371]],\n",
    "        },\n",
    "    },\n",
    "    \"Sample_06\": {\n",
    "        \"image_path\": \"/content/images_validation_vindr/f5de7e513d2c4085e8b7fd6b5e5db57a.jpg\",\n",
    "        \"predictions\": {\n",
    "            \"labels\": [\"Aortic enlargement\", \"Aortic enlargement\"],\n",
    "            \"boxes\": [[0.39, 0.24, 0.48, 0.36], [0.28, 0.59, 0.6, 0.72]],\n",
    "        },\n",
    "        \"ground_truth\": {\n",
    "            \"labels\": [\"Pleural thickening\", \"Pleural thickening\", \"Pulmonary fibrosis\", \"Pulmonary fibrosis\"],\n",
    "            \"boxes\": [[0.112, 0.241, 0.269, 0.292], [0.429, 0.203, 0.576, 0.297], [0.105, 0.225, 0.278, 0.454], [0.41, 0.198, 0.576, 0.451]],\n",
    "        },\n",
    "    },\n",
    "}\n"
   ]
  },
  {
   "cell_type": "code",
   "execution_count": null,
   "id": "cb2bd57f",
   "metadata": {
    "id": "MCo0C3beGnNY"
   },
   "outputs": [],
   "source": [
    "def scale_bbox(box, img_width, img_height):\n",
    "    \"\"\"\n",
    "    Scale normalized bounding box coordinates to the image dimensions.\n",
    "\n",
    "    Args:\n",
    "        box (list): Bounding box coordinates [x_min, y_min, x_max, y_max].\n",
    "        img_width (int): Width of the image.\n",
    "        img_height (int): Height of the image.\n",
    "\n",
    "    Returns:\n",
    "        list: Scaled bounding box coordinates.\n",
    "    \"\"\"\n",
    "    return [\n",
    "        box[0] * img_width,\n",
    "        box[1] * img_height,\n",
    "        (box[2] - box[0]) * img_width,\n",
    "        (box[3] - box[1]) * img_height,\n",
    "    ]\n",
    "\n",
    "def plot_images_with_boxes(data, num_cols=3):\n",
    "    \"\"\"\n",
    "    Plot images with predicted and ground truth bounding boxes.\n",
    "\n",
    "    Args:\n",
    "        data (dict): Dictionary containing image paths, predictions, and ground truths.\n",
    "        num_cols (int): Number of images per row.\n",
    "    \"\"\"\n",
    "    num_images = len(data)\n",
    "    num_rows = (num_images + num_cols - 1) // num_cols\n",
    "    fig, axes = plt.subplots(num_rows, num_cols, figsize=(15, 5 * num_rows))\n",
    "    axes = axes.flatten()\n",
    "\n",
    "    for idx, (key, value) in enumerate(data.items()):\n",
    "        image_path = value[\"image_path\"]\n",
    "        predictions = value[\"predictions\"]\n",
    "        ground_truth = value[\"ground_truth\"]\n",
    "\n",
    "        try:\n",
    "            img = Image.open(image_path).convert(\"RGB\")\n",
    "            img_width, img_height = img.size\n",
    "        except FileNotFoundError:\n",
    "            print(f\"Image not found: {image_path}\")\n",
    "            continue\n",
    "\n",
    "        ax = axes[idx]\n",
    "        ax.imshow(img, cmap=\"gray\")\n",
    "        ax.set_title(key.replace(\"_\", \" \").title())\n",
    "        ax.axis(\"off\")\n",
    "\n",
    "        for i, (label, box) in enumerate(zip(predictions[\"labels\"], predictions[\"boxes\"])):\n",
    "            scaled_box = scale_bbox(box, img_width, img_height)\n",
    "            rect = patches.Rectangle(\n",
    "                (scaled_box[0], scaled_box[1]), scaled_box[2], scaled_box[3],\n",
    "                linewidth=2, edgecolor=\"red\", facecolor=\"none\"\n",
    "            )\n",
    "            ax.add_patch(rect)\n",
    "            ax.text(\n",
    "                scaled_box[0], scaled_box[1] - 10 - i * 10,\n",
    "                label, color=\"red\", fontsize=8, bbox=dict(facecolor=\"white\", alpha=0.5, pad=0.4,edgecolor='none')\n",
    "            )\n",
    "\n",
    "        for i, (label, box) in enumerate(zip(ground_truth[\"labels\"], ground_truth[\"boxes\"])):\n",
    "            scaled_box = scale_bbox(box, img_width, img_height)\n",
    "            rect = patches.Rectangle(\n",
    "                (scaled_box[0], scaled_box[1]), scaled_box[2], scaled_box[3],\n",
    "                linewidth=2, edgecolor=\"green\", facecolor=\"none\"\n",
    "            )\n",
    "            ax.add_patch(rect)\n",
    "            ax.text(\n",
    "                scaled_box[0], scaled_box[1] - 10 - i * 10,\n",
    "                label, color=\"green\", fontsize=8, bbox=dict(facecolor=\"white\", alpha=0.5, pad=0.4, edgecolor='none')\n",
    "            )\n",
    "\n",
    "    for ax in axes[num_images:]:\n",
    "        ax.axis(\"off\")\n",
    "\n",
    "    plt.tight_layout()\n",
    "    plt.savefig(\"vindr_sample_images.pdf\")\n",
    "    plt.show()\n"
   ]
  },
  {
   "cell_type": "code",
   "execution_count": null,
   "id": "ce3b5acd",
   "metadata": {
    "colab": {
     "base_uri": "https://localhost:8080/",
     "height": 748
    },
    "id": "SRsnNS5JQlMC",
    "outputId": "fe53fe35-be1b-4be2-9cbe-783d850d7497"
   },
   "outputs": [],
   "source": [
    "plot_images_with_boxes(sample)"
   ]
  },
  {
   "cell_type": "code",
   "execution_count": null,
   "id": "4b306753",
   "metadata": {
    "id": "R28GZ5MM5WQW"
   },
   "outputs": [],
   "source": [
    "yolo_abnormal = {\n",
    "    'average': 0.329,\n",
    "    'Aortic enlargement': 0.813,\n",
    "    'Atelectasis': 0.412,\n",
    "    'Calcification': 0.149,\n",
    "    'Cardiomegaly': 0.844,\n",
    "    'Clavicle fracture': 0.0469,\n",
    "    'Consolidation': 0.371,\n",
    "    'Edema': 0.0,\n",
    "    'Emphysema': 0.0958,\n",
    "    'Enlarged PA': 0.41,\n",
    "    'ILD': 0.56,\n",
    "    'Infiltration': 0.519,\n",
    "    'Lung Opacity': 0.41,\n",
    "    'Lung cavity': 0.0114,\n",
    "    'Lung cyst': 0.209,\n",
    "    'Mediastinal shift': 0.541,\n",
    "    'Nodule/Mass': 0.123,\n",
    "    'Other lesion': 0.16,\n",
    "    'Pleural effusion': 0.503,\n",
    "    'Pleural thickening': 0.256,\n",
    "    'Pneumothorax': 0.41,\n",
    "    'Pulmonary fibrosis': 0.315,\n",
    "    'Rib fracture': 0.0847\n",
    "}"
   ]
  },
  {
   "cell_type": "code",
   "execution_count": null,
   "id": "85325c92",
   "metadata": {
    "id": "oRK9CMZmNNAp"
   },
   "outputs": [],
   "source": [
    "yolo = {\n",
    "    'average': 0.0965,\n",
    "    'Aortic enlargement': 0.489,\n",
    "    'Atelectasis': 0.0237,\n",
    "    'Calcification': 0.00727,\n",
    "    'Cardiomegaly': 0.62,\n",
    "    'Consolidation': 0.087,\n",
    "    'Edema': 0.0,\n",
    "    'Emphysema': 0.0,\n",
    "    'Enlarged PA': 0.0167,\n",
    "    'ILD': 0.139,\n",
    "    'Infiltration': 0.166,\n",
    "    'Lung Opacity': 0.0407,\n",
    "    'Lung cavity': 0.0,\n",
    "    'Lung cyst': 0.0,\n",
    "    'Mediastinal shift': 0.0152,\n",
    "    'Nodule/Mass': 0.00644,\n",
    "    'Other lesion': 0.00159,\n",
    "    'Pleural effusion': 0.173,\n",
    "    'Pleural thickening': 0.0334,\n",
    "    'Pneumothorax': 0.0891,\n",
    "    'Pulmonary fibrosis': 0.118,\n",
    "    'Rib fracture': 0.0\n",
    "}\n"
   ]
  },
  {
   "cell_type": "code",
   "execution_count": null,
   "id": "75068adf",
   "metadata": {
    "id": "-GYaIoWYNSBD"
   },
   "outputs": [],
   "source": [
    "llava_results = {\n",
    "    'average': 0.0083,\n",
    "    'Aortic enlargement': 0.016,\n",
    "    'Atelectasis': 0.0,\n",
    "    'Calcification': 0.0,\n",
    "    'Cardiomegaly': 0.142,\n",
    "    'Consolidation': 0.00,\n",
    "    'Edema': 0.0,\n",
    "    'Emphysema': 0.0,\n",
    "    'Enlarged PA': 0.00,\n",
    "    'ILD': 0.0,\n",
    "    'Infiltration': 0.0,\n",
    "    'Lung Opacity': 0.0,\n",
    "    'Lung cavity': 0.0,\n",
    "    'Lung cyst': 0.0,\n",
    "    'Mediastinal shift': 0.0,\n",
    "    'Nodule/Mass': 0.0,\n",
    "    'Other lesion': 0.0,\n",
    "    'Pleural effusion': 0.0,\n",
    "    'Pleural thickening': 0.0,\n",
    "    'Pneumothorax': 0.0,\n",
    "    'Pulmonary fibrosis': 0.018,\n",
    "    'Rib fracture': 0.0\n",
    "}"
   ]
  },
  {
   "cell_type": "code",
   "execution_count": null,
   "id": "e28b722a",
   "metadata": {
    "colab": {
     "base_uri": "https://localhost:8080/",
     "height": 607
    },
    "id": "UvBhWrP_OsJx",
    "outputId": "fb93fc6c-1be0-4ac5-d38e-266e6135b268"
   },
   "outputs": [],
   "source": [
    "import matplotlib.pyplot as plt\n",
    "import numpy as np\n",
    "\n",
    "\n",
    "common_regions = set(llava_results.keys()) & set(yolo.keys()) & set(yolo_abnormal.keys())\n",
    "common_regions.discard(\"average\")\n",
    "\n",
    "sorted_regions = sorted(common_regions, key=lambda x: llava_results[x])\n",
    "sorted_regions.append(\"average\")\n",
    "\n",
    "llava_results_ious = [llava_results[region] for region in sorted_regions]\n",
    "yolo_ious = [yolo[region] for region in sorted_regions]\n",
    "yolo_abnormal_ious = [yolo_abnormal[region] for region in sorted_regions]\n",
    "\n",
    "plt.figure(figsize=(8, 6))\n",
    "y_positions = np.arange(len(sorted_regions))\n",
    "\n",
    "plt.plot(llava_results_ious, y_positions, '*', color='#fa7f6f', label='LLaVA-Detect')\n",
    "plt.plot(yolo_ious, y_positions, '^', color='#2f7fc1', label='YOLOv5')\n",
    "plt.plot(yolo_abnormal_ious, y_positions, 's', color='#ffbe7a', label='YOLOv5-Abnormal')\n",
    "\n",
    "plt.yticks(y_positions, [region.lower() for region in sorted_regions])\n",
    "plt.xlabel(\"Average Precision\", fontsize=12)\n",
    "plt.ylabel(\"Abnormality\", fontsize=12)\n",
    "plt.legend(loc=\"lower right\", fontsize=10)\n",
    "plt.grid(True, linestyle='--', alpha=0.7)\n",
    "plt.xlim(0.0, 1.0)\n",
    "\n",
    "plt.text(llava_results_ious[-1], y_positions[-1], f\"{llava_results_ious[-1]:.3f}\", color='#fa7f6f', ha='left', va='bottom', fontsize=8)\n",
    "plt.text(yolo_ious[-1], y_positions[-1], f\"{yolo_ious[-1]:.3f}\", color='#2f7fc1', ha='left', va='bottom', fontsize=8)\n",
    "plt.text(yolo_abnormal_ious[-1], y_positions[-1], f\"{yolo_abnormal_ious[-1]:.3f}\", color='#ffbe7a', ha='left', va='bottom', fontsize=8)\n",
    "\n",
    "plt.tight_layout()\n",
    "plt.savefig('vindr_abnormality_detection_precision.pdf', format='pdf', bbox_inches='tight')\n",
    "plt.show()\n"
   ]
  },
  {
   "cell_type": "code",
   "execution_count": null,
   "id": "0d453d8d",
   "metadata": {
    "id": "6gGrSZxJPOLE"
   },
   "outputs": [],
   "source": []
  }
 ],
 "metadata": {
  "colab": {
   "provenance": [],
   "toc_visible": true
  },
  "kernelspec": {
   "display_name": "Python 3",
   "name": "python3"
  },
  "language_info": {
   "name": "python"
  }
 },
 "nbformat": 4,
 "nbformat_minor": 5
}
